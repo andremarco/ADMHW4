{
 "cells": [
  {
   "cell_type": "code",
   "execution_count": 1,
   "metadata": {
    "collapsed": true
   },
   "outputs": [],
   "source": [
    "import networkx as nx\n",
    "import json\n",
    "import collections\n",
    "import itertools\n",
    "import matplotlib.pyplot as plt\n",
    "import numpy as np\n",
    "from tqdm import tqdm\n",
    "from collections import defaultdict\n",
    "from heapq import *"
   ]
  },
  {
   "cell_type": "markdown",
   "metadata": {},
   "source": [
    "# POINT 1"
   ]
  },
  {
   "cell_type": "markdown",
   "metadata": {},
   "source": [
    "# Definition of jaccard similarity"
   ]
  },
  {
   "cell_type": "code",
   "execution_count": 2,
   "metadata": {
    "collapsed": true
   },
   "outputs": [],
   "source": [
    "def jaccard_sim(set1,set2):\n",
    "    set1=set(set1)\n",
    "    set2=set(set2)\n",
    "    return len(set1 & set2)/len( set1 | set2)"
   ]
  },
  {
   "cell_type": "markdown",
   "metadata": {},
   "source": [
    "Define some functions to read and store data"
   ]
  },
  {
   "cell_type": "code",
   "execution_count": 3,
   "metadata": {
    "collapsed": true
   },
   "outputs": [],
   "source": [
    "def load_json(name):\n",
    "    with open( name + '.json', 'r') as f:\n",
    "        return json.load(f)"
   ]
  },
  {
   "cell_type": "code",
   "execution_count": 4,
   "metadata": {
    "collapsed": true
   },
   "outputs": [],
   "source": [
    "def save_json(name_file, data ):\n",
    "    with open( name_file + '.json', 'w') as f:\n",
    "        return json.dump(data, f,indent=3)"
   ]
  },
  {
   "cell_type": "markdown",
   "metadata": {
    "collapsed": true
   },
   "source": [
    "Read the Json file from local"
   ]
  },
  {
   "cell_type": "code",
   "execution_count": 7,
   "metadata": {
    "collapsed": true
   },
   "outputs": [],
   "source": [
    "data=load_json('reduced_dblp')"
   ]
  },
  {
   "cell_type": "markdown",
   "metadata": {},
   "source": [
    "Create an empty graph"
   ]
  },
  {
   "cell_type": "code",
   "execution_count": 8,
   "metadata": {
    "collapsed": true
   },
   "outputs": [],
   "source": [
    "G=nx.Graph()"
   ]
  },
  {
   "cell_type": "markdown",
   "metadata": {},
   "source": [
    "Define a function to create a dictionaty usefull to access information very fast"
   ]
  },
  {
   "cell_type": "code",
   "execution_count": 9,
   "metadata": {
    "collapsed": true
   },
   "outputs": [],
   "source": [
    "def dict_name(data):\n",
    "    \n",
    "\n",
    "    DICT={}\n",
    "  \n",
    "    for i in tqdm(range(len(data))):\n",
    "\n",
    "        for auth in range(len(data[i]['authors'])):\n",
    "\n",
    "            if data[i]['authors'][auth]['author_id'] not in DICT.keys():\n",
    "\n",
    "                DICT[data[i]['authors'][auth]['author_id']]={'author_name':data[i]['authors'][auth]['author'],\n",
    "                                               'id_publication_int':[data[i]['id_publication_int']],\n",
    "                                               'id_conference_int':[data[i]['id_conference_int']]}    \n",
    "\n",
    "            else:\n",
    "                DICT[data[i]['authors'][auth]['author_id']]['id_publication_int'].append(data[i]['id_publication_int']),\n",
    "                DICT[data[i]['authors'][auth]['author_id']]['id_conference_int'].append(data[i]['id_conference_int'])    \n",
    "\n",
    "\n",
    "\n",
    "\n",
    "    return DICT        "
   ]
  },
  {
   "cell_type": "code",
   "execution_count": 10,
   "metadata": {},
   "outputs": [
    {
     "name": "stderr",
     "output_type": "stream",
     "text": [
      "100%|██████████| 3096/3096 [00:00<00:00, 154698.72it/s]\n"
     ]
    }
   ],
   "source": [
    "data_small=dict_name(data) "
   ]
  },
  {
   "cell_type": "markdown",
   "metadata": {},
   "source": [
    "# Add nodes"
   ]
  },
  {
   "cell_type": "markdown",
   "metadata": {},
   "source": [
    "Define a function to add nodes to graph."
   ]
  },
  {
   "cell_type": "markdown",
   "metadata": {},
   "source": [
    "Each node of the graph is an author ID"
   ]
  },
  {
   "cell_type": "code",
   "execution_count": 11,
   "metadata": {
    "collapsed": true
   },
   "outputs": [],
   "source": [
    "def graph_complete(data):\n",
    "    G=nx.Graph()\n",
    "    for k,v in tqdm(data.items()):\n",
    "        G.add_node(k, **v)  #**v take the dict like attr\n",
    "    return G"
   ]
  },
  {
   "cell_type": "code",
   "execution_count": 12,
   "metadata": {},
   "outputs": [
    {
     "name": "stderr",
     "output_type": "stream",
     "text": [
      "100%|██████████| 7771/7771 [00:00<00:00, 390538.30it/s]\n"
     ]
    }
   ],
   "source": [
    "G=graph_complete(data_small)"
   ]
  },
  {
   "cell_type": "markdown",
   "metadata": {},
   "source": [
    "Define a function to create a dictionary which keys are the publication, and the id the list of conferences"
   ]
  },
  {
   "cell_type": "code",
   "execution_count": 13,
   "metadata": {
    "collapsed": true
   },
   "outputs": [],
   "source": [
    "def pub_id_f(data):\n",
    "    \n",
    "    dict_publication={}\n",
    "    for i in tqdm(range(len(data))):\n",
    "        dict_publication[data[i][\"id_publication_int\"]]=[]\n",
    "        for j in range(len(data[i][\"authors\"])):\n",
    "            dict_publication[data[i][\"id_publication_int\"]].append(data[i][\"authors\"][j][\"author_id\"]) \n",
    "        \n",
    "                    \n",
    "    return dict_publication"
   ]
  },
  {
   "cell_type": "code",
   "execution_count": 14,
   "metadata": {},
   "outputs": [
    {
     "name": "stderr",
     "output_type": "stream",
     "text": [
      "100%|██████████| 3096/3096 [00:00<00:00, 312573.78it/s]\n"
     ]
    }
   ],
   "source": [
    "pub_id=pub_id_f(data)"
   ]
  },
  {
   "cell_type": "markdown",
   "metadata": {},
   "source": [
    "# Add edges using jaccard similarity as weight"
   ]
  },
  {
   "cell_type": "code",
   "execution_count": 15,
   "metadata": {
    "collapsed": true
   },
   "outputs": [],
   "source": [
    "def add_weighted_edges(pub_id,graph):\n",
    "\n",
    "    for pub in pub_id.keys():\n",
    "        \n",
    "        for (i,v) in itertools.combinations(pub_id[pub], 2):\n",
    "        \n",
    "            graph.add_edge(i,v, weight= 1-jaccard_sim(graph.node[i]['id_publication_int'],\n",
    "                                                      graph.node[v]['id_publication_int']))\n",
    "\n",
    "    return graph"
   ]
  },
  {
   "cell_type": "code",
   "execution_count": 16,
   "metadata": {
    "collapsed": true
   },
   "outputs": [],
   "source": [
    "G=add_weighted_edges(pub_id,G)   "
   ]
  },
  {
   "cell_type": "code",
   "execution_count": 17,
   "metadata": {},
   "outputs": [
    {
     "data": {
      "text/plain": [
       "'Name: \\nType: Graph\\nNumber of nodes: 7771\\nNumber of edges: 16489\\nAverage degree:   4.2437'"
      ]
     },
     "execution_count": 17,
     "metadata": {},
     "output_type": "execute_result"
    }
   ],
   "source": [
    "nx.info(G)"
   ]
  },
  {
   "cell_type": "markdown",
   "metadata": {},
   "source": [
    "# POINT 2"
   ]
  },
  {
   "cell_type": "markdown",
   "metadata": {},
   "source": [
    "## SUBPOINT 1"
   ]
  },
  {
   "cell_type": "markdown",
   "metadata": {},
   "source": [
    "Given a conference in input, return the subgraph induced by the set of authors who published at the input conference at least once. Once you have the graph, compute some centralities measures (degree, closeness, betweeness) and plot them."
   ]
  },
  {
   "cell_type": "code",
   "execution_count": 18,
   "metadata": {
    "collapsed": true
   },
   "outputs": [],
   "source": [
    "# We use function subgraph, that wants as parameter the list of nodes that are used in the subgraph"
   ]
  },
  {
   "cell_type": "markdown",
   "metadata": {},
   "source": [
    "Ask to user a conference in input"
   ]
  },
  {
   "cell_type": "code",
   "execution_count": 20,
   "metadata": {},
   "outputs": [
    {
     "name": "stdout",
     "output_type": "stream",
     "text": [
      "Insert conference id:\n",
      "3245\n",
      "ERROR\n",
      "Conference ID not found\n",
      "Try another time\n",
      "\n",
      "\n",
      "Insert conference id:\n",
      "234\n",
      "ERROR\n",
      "Conference ID not found\n",
      "Try another time\n",
      "\n",
      "\n",
      "Insert conference id:\n"
     ]
    },
    {
     "ename": "KeyboardInterrupt",
     "evalue": "",
     "output_type": "error",
     "traceback": [
      "\u001b[0;31m---------------------------------------------------------------------------\u001b[0m",
      "\u001b[0;31mKeyboardInterrupt\u001b[0m                         Traceback (most recent call last)",
      "\u001b[0;32m/anaconda/lib/python3.6/site-packages/ipykernel/kernelbase.py\u001b[0m in \u001b[0;36m_input_request\u001b[0;34m(self, prompt, ident, parent, password)\u001b[0m\n\u001b[1;32m    729\u001b[0m             \u001b[0;32mtry\u001b[0m\u001b[0;34m:\u001b[0m\u001b[0;34m\u001b[0m\u001b[0m\n\u001b[0;32m--> 730\u001b[0;31m                 \u001b[0mident\u001b[0m\u001b[0;34m,\u001b[0m \u001b[0mreply\u001b[0m \u001b[0;34m=\u001b[0m \u001b[0mself\u001b[0m\u001b[0;34m.\u001b[0m\u001b[0msession\u001b[0m\u001b[0;34m.\u001b[0m\u001b[0mrecv\u001b[0m\u001b[0;34m(\u001b[0m\u001b[0mself\u001b[0m\u001b[0;34m.\u001b[0m\u001b[0mstdin_socket\u001b[0m\u001b[0;34m,\u001b[0m \u001b[0;36m0\u001b[0m\u001b[0;34m)\u001b[0m\u001b[0;34m\u001b[0m\u001b[0m\n\u001b[0m\u001b[1;32m    731\u001b[0m             \u001b[0;32mexcept\u001b[0m \u001b[0mException\u001b[0m\u001b[0;34m:\u001b[0m\u001b[0;34m\u001b[0m\u001b[0m\n",
      "\u001b[0;32m/anaconda/lib/python3.6/site-packages/jupyter_client/session.py\u001b[0m in \u001b[0;36mrecv\u001b[0;34m(self, socket, mode, content, copy)\u001b[0m\n\u001b[1;32m    777\u001b[0m         \u001b[0;32mtry\u001b[0m\u001b[0;34m:\u001b[0m\u001b[0;34m\u001b[0m\u001b[0m\n\u001b[0;32m--> 778\u001b[0;31m             \u001b[0mmsg_list\u001b[0m \u001b[0;34m=\u001b[0m \u001b[0msocket\u001b[0m\u001b[0;34m.\u001b[0m\u001b[0mrecv_multipart\u001b[0m\u001b[0;34m(\u001b[0m\u001b[0mmode\u001b[0m\u001b[0;34m,\u001b[0m \u001b[0mcopy\u001b[0m\u001b[0;34m=\u001b[0m\u001b[0mcopy\u001b[0m\u001b[0;34m)\u001b[0m\u001b[0;34m\u001b[0m\u001b[0m\n\u001b[0m\u001b[1;32m    779\u001b[0m         \u001b[0;32mexcept\u001b[0m \u001b[0mzmq\u001b[0m\u001b[0;34m.\u001b[0m\u001b[0mZMQError\u001b[0m \u001b[0;32mas\u001b[0m \u001b[0me\u001b[0m\u001b[0;34m:\u001b[0m\u001b[0;34m\u001b[0m\u001b[0m\n",
      "\u001b[0;32m/anaconda/lib/python3.6/site-packages/zmq/sugar/socket.py\u001b[0m in \u001b[0;36mrecv_multipart\u001b[0;34m(self, flags, copy, track)\u001b[0m\n\u001b[1;32m    394\u001b[0m         \"\"\"\n\u001b[0;32m--> 395\u001b[0;31m         \u001b[0mparts\u001b[0m \u001b[0;34m=\u001b[0m \u001b[0;34m[\u001b[0m\u001b[0mself\u001b[0m\u001b[0;34m.\u001b[0m\u001b[0mrecv\u001b[0m\u001b[0;34m(\u001b[0m\u001b[0mflags\u001b[0m\u001b[0;34m,\u001b[0m \u001b[0mcopy\u001b[0m\u001b[0;34m=\u001b[0m\u001b[0mcopy\u001b[0m\u001b[0;34m,\u001b[0m \u001b[0mtrack\u001b[0m\u001b[0;34m=\u001b[0m\u001b[0mtrack\u001b[0m\u001b[0;34m)\u001b[0m\u001b[0;34m]\u001b[0m\u001b[0;34m\u001b[0m\u001b[0m\n\u001b[0m\u001b[1;32m    396\u001b[0m         \u001b[0;31m# have first part already, only loop while more to receive\u001b[0m\u001b[0;34m\u001b[0m\u001b[0;34m\u001b[0m\u001b[0m\n",
      "\u001b[0;32mzmq/backend/cython/socket.pyx\u001b[0m in \u001b[0;36mzmq.backend.cython.socket.Socket.recv (zmq/backend/cython/socket.c:7683)\u001b[0;34m()\u001b[0m\n",
      "\u001b[0;32mzmq/backend/cython/socket.pyx\u001b[0m in \u001b[0;36mzmq.backend.cython.socket.Socket.recv (zmq/backend/cython/socket.c:7460)\u001b[0;34m()\u001b[0m\n",
      "\u001b[0;32mzmq/backend/cython/socket.pyx\u001b[0m in \u001b[0;36mzmq.backend.cython.socket._recv_copy (zmq/backend/cython/socket.c:2344)\u001b[0;34m()\u001b[0m\n",
      "\u001b[0;32m/anaconda/lib/python3.6/site-packages/zmq/backend/cython/checkrc.pxd\u001b[0m in \u001b[0;36mzmq.backend.cython.checkrc._check_rc (zmq/backend/cython/socket.c:9621)\u001b[0;34m()\u001b[0m\n",
      "\u001b[0;31mKeyboardInterrupt\u001b[0m: ",
      "\nDuring handling of the above exception, another exception occurred:\n",
      "\u001b[0;31mKeyboardInterrupt\u001b[0m                         Traceback (most recent call last)",
      "\u001b[0;32m<ipython-input-20-9589f407d21e>\u001b[0m in \u001b[0;36m<module>\u001b[0;34m()\u001b[0m\n\u001b[1;32m      4\u001b[0m \u001b[0;34m\u001b[0m\u001b[0m\n\u001b[1;32m      5\u001b[0m     \u001b[0mprint\u001b[0m\u001b[0;34m(\u001b[0m\u001b[0;34m\"Insert conference id:\"\u001b[0m\u001b[0;34m)\u001b[0m\u001b[0;34m\u001b[0m\u001b[0m\n\u001b[0;32m----> 6\u001b[0;31m     \u001b[0mconf_input\u001b[0m\u001b[0;34m=\u001b[0m\u001b[0mint\u001b[0m\u001b[0;34m(\u001b[0m\u001b[0minput\u001b[0m\u001b[0;34m(\u001b[0m\u001b[0;34m)\u001b[0m\u001b[0;34m)\u001b[0m\u001b[0;34m\u001b[0m\u001b[0m\n\u001b[0m\u001b[1;32m      7\u001b[0m     \u001b[0;32mif\u001b[0m \u001b[0mconf_input\u001b[0m \u001b[0;32mnot\u001b[0m \u001b[0;32min\u001b[0m \u001b[0mpub_id\u001b[0m\u001b[0;34m.\u001b[0m\u001b[0mkeys\u001b[0m\u001b[0;34m(\u001b[0m\u001b[0;34m)\u001b[0m\u001b[0;34m:\u001b[0m\u001b[0;34m\u001b[0m\u001b[0m\n\u001b[1;32m      8\u001b[0m         \u001b[0mprint\u001b[0m\u001b[0;34m(\u001b[0m\u001b[0;34m\"ERROR\\nConference ID not found\"\u001b[0m\u001b[0;34m)\u001b[0m\u001b[0;34m\u001b[0m\u001b[0m\n",
      "\u001b[0;32m/anaconda/lib/python3.6/site-packages/ipykernel/kernelbase.py\u001b[0m in \u001b[0;36mraw_input\u001b[0;34m(self, prompt)\u001b[0m\n\u001b[1;32m    703\u001b[0m             \u001b[0mself\u001b[0m\u001b[0;34m.\u001b[0m\u001b[0m_parent_ident\u001b[0m\u001b[0;34m,\u001b[0m\u001b[0;34m\u001b[0m\u001b[0m\n\u001b[1;32m    704\u001b[0m             \u001b[0mself\u001b[0m\u001b[0;34m.\u001b[0m\u001b[0m_parent_header\u001b[0m\u001b[0;34m,\u001b[0m\u001b[0;34m\u001b[0m\u001b[0m\n\u001b[0;32m--> 705\u001b[0;31m             \u001b[0mpassword\u001b[0m\u001b[0;34m=\u001b[0m\u001b[0;32mFalse\u001b[0m\u001b[0;34m,\u001b[0m\u001b[0;34m\u001b[0m\u001b[0m\n\u001b[0m\u001b[1;32m    706\u001b[0m         )\n\u001b[1;32m    707\u001b[0m \u001b[0;34m\u001b[0m\u001b[0m\n",
      "\u001b[0;32m/anaconda/lib/python3.6/site-packages/ipykernel/kernelbase.py\u001b[0m in \u001b[0;36m_input_request\u001b[0;34m(self, prompt, ident, parent, password)\u001b[0m\n\u001b[1;32m    733\u001b[0m             \u001b[0;32mexcept\u001b[0m \u001b[0mKeyboardInterrupt\u001b[0m\u001b[0;34m:\u001b[0m\u001b[0;34m\u001b[0m\u001b[0m\n\u001b[1;32m    734\u001b[0m                 \u001b[0;31m# re-raise KeyboardInterrupt, to truncate traceback\u001b[0m\u001b[0;34m\u001b[0m\u001b[0;34m\u001b[0m\u001b[0m\n\u001b[0;32m--> 735\u001b[0;31m                 \u001b[0;32mraise\u001b[0m \u001b[0mKeyboardInterrupt\u001b[0m\u001b[0;34m\u001b[0m\u001b[0m\n\u001b[0m\u001b[1;32m    736\u001b[0m             \u001b[0;32melse\u001b[0m\u001b[0;34m:\u001b[0m\u001b[0;34m\u001b[0m\u001b[0m\n\u001b[1;32m    737\u001b[0m                 \u001b[0;32mbreak\u001b[0m\u001b[0;34m\u001b[0m\u001b[0m\n",
      "\u001b[0;31mKeyboardInterrupt\u001b[0m: "
     ]
    }
   ],
   "source": [
    "control=False\n",
    "while control==False:\n",
    "\n",
    "\n",
    "    print(\"Insert conference id:\")\n",
    "    conf_input=int(input())\n",
    "    if conf_input not in pub_id.keys():\n",
    "        print(\"ERROR\\nConference ID not found\")\n",
    "        print(\"Try another time\")\n",
    "        print(\"\\n\")\n",
    "    else:\n",
    "        control=True\n"
   ]
  },
  {
   "cell_type": "code",
   "execution_count": 18,
   "metadata": {
    "collapsed": true
   },
   "outputs": [],
   "source": [
    "conf_input=12693"
   ]
  },
  {
   "cell_type": "code",
   "execution_count": 19,
   "metadata": {
    "collapsed": true
   },
   "outputs": [],
   "source": [
    "def conference_subgraph(data, conf_id):\n",
    "    \n",
    "    return G.subgraph([k for k in tqdm(data.keys()) if conf_id in data[k]['id_conference_int']])"
   ]
  },
  {
   "cell_type": "code",
   "execution_count": 20,
   "metadata": {},
   "outputs": [
    {
     "name": "stderr",
     "output_type": "stream",
     "text": [
      "100%|██████████| 904664/904664 [00:00<00:00, 1088258.98it/s]\n"
     ]
    }
   ],
   "source": [
    "K=conference_subgraph(data_small,conf_input)"
   ]
  },
  {
   "cell_type": "code",
   "execution_count": 21,
   "metadata": {},
   "outputs": [
    {
     "data": {
      "text/plain": [
       "'Name: \\nType: Graph\\nNumber of nodes: 1589\\nNumber of edges: 5098\\nAverage degree:   6.4166'"
      ]
     },
     "execution_count": 21,
     "metadata": {},
     "output_type": "execute_result"
    }
   ],
   "source": [
    "nx.info(K)"
   ]
  },
  {
   "cell_type": "markdown",
   "metadata": {},
   "source": [
    "Calculate degree centrality"
   ]
  },
  {
   "cell_type": "code",
   "execution_count": 22,
   "metadata": {
    "collapsed": true
   },
   "outputs": [],
   "source": [
    "degree = nx.degree_centrality(K)"
   ]
  },
  {
   "cell_type": "code",
   "execution_count": 55,
   "metadata": {},
   "outputs": [
    {
     "data": {
      "image/png": "[encoded data removed]",
      "text/plain": [
       "<matplotlib.figure.Figure at 0x119db1588>"
      ]
     },
     "metadata": {},
     "output_type": "display_data"
    }
   ],
   "source": [
    "x= range(len(list(degree.values())))\n",
    "y= sorted(list(degree.values()),reverse=False)\n",
    "plt.scatter(x,y)\n",
    "plt.xlabel(\"Authors ID\")\n",
    "plt.ylabel(\"Degrees\")\n",
    "plt.show()"
   ]
  },
  {
   "cell_type": "code",
   "execution_count": 48,
   "metadata": {},
   "outputs": [
    {
     "data": {
      "image/png": "[encoded data removed]",
      "text/plain": [
       "<matplotlib.figure.Figure at 0x11a0675f8>"
      ]
     },
     "metadata": {},
     "output_type": "display_data"
    }
   ],
   "source": [
    "degree_sequence=sorted(degree.values(),reverse=True) # degree sequence\n",
    "\n",
    "plt.loglog(degree_sequence,'b-',marker='o')\n",
    "plt.title(\"Degree rank plot\")\n",
    "plt.ylabel(\"degree\")\n",
    "plt.xlabel(\"rank\")\n",
    "plt.show()"
   ]
  },
  {
   "cell_type": "markdown",
   "metadata": {},
   "source": [
    "Closeness centrality"
   ]
  },
  {
   "cell_type": "code",
   "execution_count": 45,
   "metadata": {
    "collapsed": true
   },
   "outputs": [],
   "source": [
    "closeness=nx.closeness_centrality(K)"
   ]
  },
  {
   "cell_type": "markdown",
   "metadata": {},
   "source": [
    "Betweeness centrality"
   ]
  },
  {
   "cell_type": "code",
   "execution_count": 46,
   "metadata": {
    "collapsed": true
   },
   "outputs": [],
   "source": [
    "betweeness = nx.betweenness_centrality(K,weight=\"weight\")"
   ]
  },
  {
   "cell_type": "code",
   "execution_count": 47,
   "metadata": {},
   "outputs": [
    {
     "data": {
      "text/plain": [
       "{24151: 0.0,\n",
       " 255688: 7.936016659286172e-06,\n",
       " 93126: 0.0,\n",
       " 255926: 1.322669443214362e-05,\n",
       " 9503: 2.0898177202786928e-05,\n",
       " 9505: 1.1374957211643514e-05,\n",
       " 255996: 0.0,\n",
       " 8985: 0.0,\n",
       " 256176: 2.3808049977858513e-06,\n",
       " 114483: 1.4549363875357983e-06,\n",
       " 255300: 0.0,\n",
       " 8352: 0.0,\n",
       " 17824: 0.0,\n",
       " 17184: 0.0020369057737773606,\n",
       " 9751: 0.00010953214612035736,\n",
       " 16780: 0.0,\n",
       " 8650: 0.003689000658235895,\n",
       " 9317: 3.3476133765163493e-06,\n",
       " 271706: 3.7160712928403507e-07,\n",
       " 35691: 0.0,\n",
       " 8315: 0.0001137268977831229,\n",
       " 115211: 1.454936387535798e-06,\n",
       " 99555: 2.6453388864287235e-07,\n",
       " 8861: 0.0038643639520727973,\n",
       " 8860: 0.004040150500131561,\n",
       " 9664: 0.0021030188634191043,\n",
       " 364858: 0.0,\n",
       " 204853: 0.0,\n",
       " 114821: 7.936016659286172e-06,\n",
       " 101707: 0.0,\n",
       " 114552: 0.0,\n",
       " 9096: 0.0,\n",
       " 8659: 0.003869684862290083,\n",
       " 225947: 0.0,\n",
       " 273515: 0.0012932608329083762,\n",
       " 10660: 0.0,\n",
       " 8863: 0.003962513582870428,\n",
       " 14854: 0.0,\n",
       " 34402: 0.0005051756128455988,\n",
       " 9003: 0.001768035479841034,\n",
       " 365188: 0.0,\n",
       " 12375: 0.0,\n",
       " 156372: 0.0009314073403531474,\n",
       " 20088: 0.0,\n",
       " 461679: 0.0009958038122961246,\n",
       " 8705: 0.0008966187202772552,\n",
       " 356527: 2.3808049977858513e-06,\n",
       " 461783: 0.0024552297178277492,\n",
       " 461772: 0.0023835561502277393,\n",
       " 42583: 0.0,\n",
       " 207838: 0.0,\n",
       " 71935: 0.0,\n",
       " 19443: 0.0,\n",
       " 16981: 0.0,\n",
       " 22631: 0.0,\n",
       " 31969: 7.936016659286172e-07,\n",
       " 18968: 0.0,\n",
       " 9728: 0.0002926047132834337,\n",
       " 8412: 0.00040116186307136403,\n",
       " 44952: 0.0,\n",
       " 10494: 0.0,\n",
       " 8490: 0.0,\n",
       " 16250: 0.0,\n",
       " 8442: 0.00044675170658308746,\n",
       " 8702: 0.0,\n",
       " 156371: 0.00037582658703040964,\n",
       " 218974: 0.0,\n",
       " 218975: 0.0,\n",
       " 8353: 0.00036411151481908295,\n",
       " 12009: 0.0009165858844780405,\n",
       " 19193: 0.0,\n",
       " 362614: 0.00028025427211929196,\n",
       " 148035: 3.0383606638409913e-05,\n",
       " 8769: 0.0012903488146049915,\n",
       " 49177: 7.27468193767899e-07,\n",
       " 112027: 1.3226694432143618e-07,\n",
       " 364927: 0.0,\n",
       " 364875: 0.00031795422783046745,\n",
       " 18943: 0.0,\n",
       " 18944: 0.0,\n",
       " 20087: 0.0,\n",
       " 309373: 0.0,\n",
       " 9781: 0.0,\n",
       " 523681: 0.0,\n",
       " 114679: 0.0,\n",
       " 72867: 0.0,\n",
       " 17126: 0.0,\n",
       " 523863: 0.0,\n",
       " 356662: 1.322669443214362e-06,\n",
       " 8438: 0.0,\n",
       " 272748: 0.0,\n",
       " 6958: 0.0,\n",
       " 8771: 0.0,\n",
       " 364857: 0.0004354296561491721,\n",
       " 20947: 0.0,\n",
       " 31120: 6.376768586112615e-05,\n",
       " 140967: 0.0,\n",
       " 207936: 0.0,\n",
       " 17451: 0.0019747920951978526,\n",
       " 124453: 0.0,\n",
       " 225613: 0.002022237089270572,\n",
       " 273599: 5.422944717178885e-06,\n",
       " 137379: 0.0001824603601636449,\n",
       " 379483: 0.00011175423078495747,\n",
       " 137509: 0.00018246036016364415,\n",
       " 543217: 1.6522030873523402e-05,\n",
       " 518976: 0.0002926047132834343,\n",
       " 9134: 0.0007583907424900376,\n",
       " 33287: 0.0,\n",
       " 454726: 0.0,\n",
       " 264748: 0.0,\n",
       " 17173: 0.0,\n",
       " 9071: 0.0,\n",
       " 364871: 0.0,\n",
       " 265711: 0.0,\n",
       " 9632: 0.0,\n",
       " 9472: 0.0,\n",
       " 454552: 1.761039887251122e-05,\n",
       " 8497: 0.0,\n",
       " 25145: 0.0,\n",
       " 8743: 0.003757802143616351,\n",
       " 364921: 0.0,\n",
       " 238196: 0.0,\n",
       " 446483: 8.681992472857648e-05,\n",
       " 15965: 0.002086441146333443,\n",
       " 18384: 0.0,\n",
       " 141946: 0.0,\n",
       " 9643: 0.0,\n",
       " 454728: 0.00011067342089707372,\n",
       " 225728: 0.00018246036016364537,\n",
       " 8893: 0.0016454385779141906,\n",
       " 8430: 0.0002924611091724546,\n",
       " 518109: 0.0,\n",
       " 293054: 0.0,\n",
       " 454315: 0.0,\n",
       " 255683: 0.0,\n",
       " 156247: 2.1162711091429793e-06,\n",
       " 265637: 0.0,\n",
       " 114667: 1.095923422422216e-05,\n",
       " 695685: 3.3476133765163493e-06,\n",
       " 695686: 3.7160712928403507e-07,\n",
       " 11054: 1.322669443214362e-06,\n",
       " 35647: 7.656366548435133e-06,\n",
       " 735634: 5.4947467726676635e-06,\n",
       " 735635: 7.331367770959607e-07,\n",
       " 38573: 0.0016687483893496444,\n",
       " 518204: 0.0008572369238624966,\n",
       " 204880: 0.0004146460565696217,\n",
       " 35005: 0.0001744913194350349,\n",
       " 114031: 4.5895808852418454e-05,\n",
       " 468494: 3.870555665431327e-05,\n",
       " 292750: 2.2301780073256657e-05,\n",
       " 72577: 1.2008877630688344e-05,\n",
       " 518288: 5.786678814062834e-06,\n",
       " 300587: 2.116271109142979e-06,\n",
       " 8888: 0.0,\n",
       " 735643: 1.0581355545714894e-06,\n",
       " 37964: 5.290677772857447e-07,\n",
       " 314898: 0.0,\n",
       " 395997: 1.0581355545714894e-06,\n",
       " 347347: 5.290677772857447e-07,\n",
       " 223038: 0.0,\n",
       " 735652: 3.615296478119256e-06,\n",
       " 205286: 1.6092478225774736e-06,\n",
       " 205288: 2.6453388864287235e-07,\n",
       " 519227: 1.454936387535798e-06,\n",
       " 8774: 2.6453388864287235e-07,\n",
       " 364803: 1.322669443214362e-06,\n",
       " 735657: 4.728543259491344e-06,\n",
       " 9604: 2.634316641068604e-06,\n",
       " 454302: 1.0581355545714894e-06,\n",
       " 518320: 0.0,\n",
       " 735666: 4.1884532368454795e-06,\n",
       " 735667: 6.172457401667022e-07,\n",
       " 263218: 5.555211661500322e-06,\n",
       " 515459: 5.555211661500321e-06,\n",
       " 148729: 0.0,\n",
       " 735676: 2.9098727750715966e-06,\n",
       " 735683: 1.0581355545714894e-06,\n",
       " 210752: 5.290677772857447e-07,\n",
       " 8868: 0.0,\n",
       " 735701: 1.0581355545714894e-06,\n",
       " 622981: 5.290677772857447e-07,\n",
       " 271992: 0.0,\n",
       " 735705: 1.4560668742394002e-05,\n",
       " 735706: 8.368710445089843e-06,\n",
       " 735707: 4.210497727565719e-06,\n",
       " 735708: 1.5872033318572343e-06,\n",
       " 11440: 0.0,\n",
       " 735710: 1.0581355545714894e-06,\n",
       " 735711: 5.290677772857447e-07,\n",
       " 735712: 0.0,\n",
       " 114738: 0.00011175423078495747,\n",
       " 454628: 0.0010335641353721194,\n",
       " 735716: 1.6522030873523402e-05,\n",
       " 8301: 0.0004710517164508113,\n",
       " 9739: 0.0,\n",
       " 454558: 4.728543259491344e-06,\n",
       " 141961: 2.634316641068604e-06,\n",
       " 735720: 1.0581355545714894e-06,\n",
       " 8770: 0.0,\n",
       " 454334: 1.8100101487796536e-05,\n",
       " 454222: 9.277056511434066e-06,\n",
       " 16661: 3.923919348202606e-06,\n",
       " 8541: 7.936016659286172e-07,\n",
       " 735722: 1.7520379831284397e-05,\n",
       " 6976: 2.0451473456763607e-06,\n",
       " 735723: 9.316825418685783e-05,\n",
       " 347591: 8.25933585651635e-06,\n",
       " 533520: 3.4462887159307543e-06,\n",
       " 245411: 2.758710552989955e-06,\n",
       " 245371: 6.172457401667021e-07,\n",
       " 376478: 0.0,\n",
       " 148305: 2.948419141702415e-05,\n",
       " 17969: 0.000830406009854961,\n",
       " 34229: 0.0,\n",
       " 42957: 7.936016659286172e-07,\n",
       " 519039: 1.0581355545714894e-06,\n",
       " 518173: 5.290677772857447e-07,\n",
       " 8387: 0.0,\n",
       " 4816: 3.870555665431327e-05,\n",
       " 260038: 2.2301780073256657e-05,\n",
       " 735734: 1.2008877630688344e-05,\n",
       " 735735: 5.786678814062834e-06,\n",
       " 293222: 2.116271109142979e-06,\n",
       " 735736: 0.0,\n",
       " 454688: 2.05460951938551e-05,\n",
       " 454239: 1.3763320320533446e-05,\n",
       " 735737: 0.0,\n",
       " 8969: 5.443099680123103e-06,\n",
       " 8482: 1.206274532211498e-05,\n",
       " 735739: 0.0,\n",
       " 320766: 3.549163005958538e-06,\n",
       " 8619: 5.290677772857448e-06,\n",
       " 9699: 5.731567587262235e-07,\n",
       " 44716: 3.549163005958538e-06,\n",
       " 9229: 5.731567587262236e-07,\n",
       " 100054: 2.909872775071596e-06,\n",
       " 735742: 5.290677772857447e-07,\n",
       " 8439: 2.9098727750715966e-06,\n",
       " 454722: 0.000383501076791491,\n",
       " 369728: 0.0001556775636237384,\n",
       " 454666: 3.30062711915264e-05,\n",
       " 225950: 0.0,\n",
       " 454744: 0.0,\n",
       " 72808: 0.0,\n",
       " 218180: 0.0,\n",
       " 71564: 8.31527718355359e-05,\n",
       " 735757: 0.0,\n",
       " 578474: 4.57422374954464e-05,\n",
       " 735758: 8.909462609947818e-06,\n",
       " 216148: 3.032031014954824e-05,\n",
       " 320810: 1.662209778823724e-05,\n",
       " 359942: 8.296076674383415e-06,\n",
       " 71680: 3.372807080196624e-06,\n",
       " 278757: 5.290677772857447e-07,\n",
       " 93127: 1.0052287768429148e-05,\n",
       " 94093: 7.186503974798033e-06,\n",
       " 263188: 1.2344914803334047e-06,\n",
       " 735763: 0.0,\n",
       " 144261: 0.00010923043120128305,\n",
       " 255188: 0.0,\n",
       " 33221: 1.0581355545714894e-06,\n",
       " 8649: 5.290677772857447e-07,\n",
       " 9823: 0.0,\n",
       " 523538: 4.163259533165206e-06,\n",
       " 454392: 1.322669443214362e-06,\n",
       " 255573: 5.920520364864287e-07,\n",
       " 8563: 6.311022771908527e-06,\n",
       " 260803: 0.0,\n",
       " 454676: 0.000239886888332461,\n",
       " 8468: 0.00018786440960306389,\n",
       " 519002: 1.0581355545714894e-06,\n",
       " 259681: 5.290677772857447e-07,\n",
       " 8821: 0.0,\n",
       " 489628: 1.0581355545714894e-06,\n",
       " 735789: 5.290677772857447e-07,\n",
       " 24369: 0.0,\n",
       " 217561: 7.186503974798033e-06,\n",
       " 59385: 1.2344914803334045e-06,\n",
       " 72605: 0.0,\n",
       " 71611: 1.1488328878204744e-05,\n",
       " 262297: 9.969988336406924e-06,\n",
       " 9247: 3.944494206208163e-06,\n",
       " 735800: 5.643389624381277e-07,\n",
       " 262296: 6.658066040104295e-06,\n",
       " 262299: 1.475091350480017e-06,\n",
       " 682977: 0.0,\n",
       " 735812: 3.920990580149775e-05,\n",
       " 735813: 1.8951438724659113e-05,\n",
       " 735814: 7.597161344786492e-06,\n",
       " 436267: 1.4058086653592645e-06,\n",
       " 735815: 9.296476658020943e-06,\n",
       " 494535: 4.8117328690436035e-05,\n",
       " 114143: 1.2697374717821085e-05,\n",
       " 735816: 1.6407021616222952e-05,\n",
       " 735817: 1.5269903800613807e-06,\n",
       " 735820: 7.27468193767899e-07,\n",
       " 735821: 1.3226694432143618e-07,\n",
       " 261543: 0.0,\n",
       " 622985: 0.0,\n",
       " 683274: 3.9118101164337014e-06,\n",
       " 8635: 3.895352939029653e-06,\n",
       " 8570: 3.406026197549242e-07,\n",
       " 658948: 0.00022399218068057617,\n",
       " 106838: 0.0,\n",
       " 439309: 0.0,\n",
       " 735851: 4.728543259491344e-06,\n",
       " 519394: 2.634316641068604e-06,\n",
       " 578233: 1.0581355545714894e-06,\n",
       " 406099: 0.0,\n",
       " 8504: 7.936016659286172e-07,\n",
       " 519498: 0.0,\n",
       " 8505: 1.1904024988929256e-06,\n",
       " 735855: 1.0581355545714894e-06,\n",
       " 9420: 5.290677772857447e-07,\n",
       " 9421: 0.0,\n",
       " 652015: 0.00011175423078495746,\n",
       " 362786: 1.6522030873523395e-05,\n",
       " 8510: 0.00018246036016364434,\n",
       " 432066: 0.0001096908664535432,\n",
       " 9580: 0.00011175423078495746,\n",
       " 8302: 1.65220308735234e-05,\n",
       " 651736: 0.0,\n",
       " 650993: 0.0,\n",
       " 71875: 1.4560668742394002e-05,\n",
       " 735867: 8.368710445089843e-06,\n",
       " 72310: 4.210497727565719e-06,\n",
       " 88464: 1.5872033318572343e-06,\n",
       " 8324: 0.0,\n",
       " 735755: 0.0,\n",
       " 454365: 3.54475410781449e-05,\n",
       " 8683: 4.82207488440436e-05,\n",
       " 8962: 1.4681630819679418e-05,\n",
       " 9085: 3.1744066637144687e-06,\n",
       " 468379: 1.4560668742394002e-05,\n",
       " 30294: 8.368710445089843e-06,\n",
       " 63239: 4.210497727565719e-06,\n",
       " 735872: 1.5872033318572343e-06,\n",
       " 8483: 0.0,\n",
       " 735874: 7.587713705906389e-06,\n",
       " 8665: 3.8092879964573624e-06,\n",
       " 8458: 1.8605550167882022e-06,\n",
       " 578868: 7.27468193767899e-07,\n",
       " 735880: 1.3226694432143618e-07,\n",
       " 8629: 0.0,\n",
       " 454525: 7.316881391343449e-06,\n",
       " 42938: 7.696676474323572e-07,\n",
       " 106834: 1.454936387535798e-06,\n",
       " 8586: 2.6453388864287235e-07,\n",
       " 8401: 1.322669443214362e-06,\n",
       " 72203: 0.0002883323633462549,\n",
       " 735886: 0.00032934430689070417,\n",
       " 735887: 0.00011329658817814826,\n",
       " 176993: 0.0013760996810894019,\n",
       " 8865: 0.0018875854727490957,\n",
       " 735888: 2.0927653210938906e-05,\n",
       " 262770: 0.00047512584309845554,\n",
       " 575722: 0.0,\n",
       " 294111: 0.0,\n",
       " 735889: 0.00028767396789007707,\n",
       " 9209: 4.5560293735406736e-05,\n",
       " 516949: 0.00011284394130202601,\n",
       " 454508: 2.068075491487222e-05,\n",
       " 462103: 6.804428897523312e-05,\n",
       " 468522: 3.5499996558403704e-05,\n",
       " 735895: 1.7148864217590654e-05,\n",
       " 115015: 6.915671660235093e-06,\n",
       " 115017: 1.3100725913742253e-06,\n",
       " 23503: 4.8037891317331935e-06,\n",
       " 10634: 0.0,\n",
       " 147690: 0.0,\n",
       " 8448: 9.016131688568403e-05,\n",
       " 8712: 1.0581355545714894e-06,\n",
       " 8394: 5.290677772857447e-07,\n",
       " 25003: 0.0,\n",
       " 396188: 0.0,\n",
       " 151212: 7.433344131548533e-05,\n",
       " 454450: 6.362708623997215e-05,\n",
       " 735900: 0.00021685732379832267,\n",
       " 255458: 5.4093401171915354e-05,\n",
       " 10770: 0.00017983769561052886,\n",
       " 143125: 0.0,\n",
       " 143127: 0.0,\n",
       " 372339: 0.0,\n",
       " 10557: 0.00024084647587063645,\n",
       " 379013: 0.0,\n",
       " 379014: 0.0,\n",
       " 2475: 1.4560668742394002e-05,\n",
       " 735914: 8.368710445089843e-06,\n",
       " 654408: 4.210497727565719e-06,\n",
       " 347437: 1.5872033318572343e-06,\n",
       " 343497: 0.0,\n",
       " 735917: 1.4560668742394002e-05,\n",
       " 141883: 8.368710445089843e-06,\n",
       " 92460: 4.210497727565719e-06,\n",
       " 141876: 1.5872033318572343e-06,\n",
       " 141906: 0.0,\n",
       " 735920: 1.0581355545714894e-06,\n",
       " 735921: 5.290677772857447e-07,\n",
       " 303953: 0.0,\n",
       " 454320: 8.72961832521479e-06,\n",
       " 439460: 3.7696079131609317e-06,\n",
       " 225652: 3.552312218918572e-06,\n",
       " 352261: 7.936016659286172e-07,\n",
       " 454602: 2.6045250864666804e-05,\n",
       " 260517: 0.0,\n",
       " 9544: 3.98312455185125e-05,\n",
       " 454693: 0.0,\n",
       " 735682: 0.0,\n",
       " 8781: 0.0010124943721681126,\n",
       " 735931: 0.00044644086097817936,\n",
       " 293855: 0.0009680009067527774,\n",
       " 137702: 0.001668748389349645,\n",
       " 735934: 0.0008572369238624963,\n",
       " 320845: 0.00041464605656962183,\n",
       " 735935: 0.0001744913194350349,\n",
       " 518110: 4.5895808852418454e-05,\n",
       " 504562: 6.172457401667022e-06,\n",
       " 518858: 2.6894278678692028e-06,\n",
       " 16029: 5.290677772857447e-07,\n",
       " 33392: 1.0581355545714894e-06,\n",
       " 735942: 5.290677772857447e-07,\n",
       " 9257: 0.0,\n",
       " 735946: 8.534707205434656e-05,\n",
       " 71997: 1.0351714624092232e-05,\n",
       " 735947: 0.00019220599585977887,\n",
       " 200955: 0.00010646591609398373,\n",
       " 735948: 8.555617979489283e-05,\n",
       " 111944: 0.0003340628375284444,\n",
       " 8603: 1.0560822364638504e-05,\n",
       " 735950: 8.555617979489282e-05,\n",
       " 735951: 1.0560822364638503e-05,\n",
       " 9060: 0.0002074743039549667,\n",
       " 23020: 0.0,\n",
       " 8713: 0.0008942152409461578,\n",
       " 78426: 0.00018246036016364507,\n",
       " 142075: 0.0,\n",
       " 9142: 3.7034744410002136e-06,\n",
       " 536518: 7.592110043087063e-05,\n",
       " 735956: 3.8900516712648624e-05,\n",
       " 735957: 1.842618499418052e-05,\n",
       " 536519: 1.0929743832607143e-05,\n",
       " 71799: 2.3251025316488856e-06,\n",
       " 51674: 7.204769409966232e-06,\n",
       " 71815: 1.174026591500748e-06,\n",
       " 234201: 0.0,\n",
       " 735964: 0.0,\n",
       " 283367: 0.0,\n",
       " 735973: 0.0,\n",
       " 493933: 6.348813327428937e-06,\n",
       " 735974: 1.4560668742394002e-05,\n",
       " 9534: 8.368710445089843e-06,\n",
       " 143361: 4.210497727565719e-06,\n",
       " 735975: 1.5872033318572343e-06,\n",
       " 735730: 0.0,\n",
       " 735976: 3.9209905801497756e-05,\n",
       " 735977: 1.8951438724659113e-05,\n",
       " 80585: 7.597161344786492e-06,\n",
       " 735978: 1.4058086653592645e-06,\n",
       " 256621: 1.4560668742394002e-05,\n",
       " 15464: 8.368710445089843e-06,\n",
       " 598277: 4.210497727565719e-06,\n",
       " 682914: 1.5872033318572343e-06,\n",
       " 8428: 0.0,\n",
       " 623100: 0.0,\n",
       " 36144: 0.0,\n",
       " 24902: 0.0,\n",
       " 735991: 0.0,\n",
       " 9476: 0.0,\n",
       " 40185: 1.0581355545714894e-06,\n",
       " 72085: 5.290677772857447e-07,\n",
       " 518860: 0.0,\n",
       " 461736: 8.293008189635174e-05,\n",
       " 226475: 1.1505931962776185e-05,\n",
       " 8371: 0.0,\n",
       " 454317: 0.0,\n",
       " 498794: 0.0,\n",
       " 20349: 0.00011278969200621671,\n",
       " 21500: 1.3373657703611881e-05,\n",
       " 454351: 5.606648806514212e-06,\n",
       " 21353: 1.146313517452447e-06,\n",
       " 225689: 3.615296478119256e-06,\n",
       " 225954: 1.6092478225774736e-06,\n",
       " 101083: 2.6453388864287235e-07,\n",
       " 234509: 3.032031014954824e-05,\n",
       " 307511: 1.662209778823724e-05,\n",
       " 736008: 8.296076674383415e-06,\n",
       " 34522: 3.372807080196624e-06,\n",
       " 502136: 5.290677772857447e-07,\n",
       " 11599: 7.985152508463893e-05,\n",
       " 454708: 8.427375151063378e-06,\n",
       " 9526: 0.0005478896682252299,\n",
       " 622965: 0.00031793316264339057,\n",
       " 735728: 0.0,\n",
       " 297753: 3.870555665431327e-05,\n",
       " 486379: 2.2301780073256657e-05,\n",
       " 518523: 1.2008877630688344e-05,\n",
       " 415712: 5.786678814062834e-06,\n",
       " 736015: 2.116271109142979e-06,\n",
       " 7138: 0.0,\n",
       " 736016: 3.637340968839496e-06,\n",
       " 712126: 6.61334721607181e-07,\n",
       " 736017: 5.290677772857448e-06,\n",
       " 736018: 0.0,\n",
       " 454608: 1.454936387535798e-06,\n",
       " 8789: 1.322669443214362e-06,\n",
       " 8790: 2.6453388864287235e-07,\n",
       " 454474: 0.000286921013733162,\n",
       " 261240: 0.0,\n",
       " 736025: 0.0,\n",
       " 72858: 1.776156109459286e-06,\n",
       " 345150: 1.0581355545714894e-06,\n",
       " 275746: 5.290677772857447e-07,\n",
       " 330485: 0.0,\n",
       " 226562: 0.0011350147102419262,\n",
       " 736026: 8.293008189635174e-05,\n",
       " 454430: 1.1505931962776185e-05,\n",
       " 8574: 0.0009853719610642495,\n",
       " 736036: 1.0581355545714894e-06,\n",
       " 266282: 5.290677772857447e-07,\n",
       " 141743: 0.0,\n",
       " 736039: 3.699123447739624e-05,\n",
       " 71932: 1.752921351690173e-05,\n",
       " 736040: 6.786492976364787e-06,\n",
       " 733129: 1.0218078592647725e-06,\n",
       " 8652: 5.5610631023550925e-06,\n",
       " 735655: 7.795152632747341e-05,\n",
       " 736041: 4.015049765524471e-05,\n",
       " 736042: 1.9149524219845266e-05,\n",
       " 736043: 7.590233076274417e-06,\n",
       " 59151: 1.345343776526608e-06,\n",
       " 623239: 6.172457401667023e-06,\n",
       " 736045: 2.6894278678692023e-06,\n",
       " 612519: 5.290677772857447e-07,\n",
       " 161766: 1.776156109459286e-06,\n",
       " 612453: 0.0001127896920062167,\n",
       " 256321: 0.0,\n",
       " 518227: 4.728543259491344e-06,\n",
       " 736049: 2.634316641068604e-06,\n",
       " 736050: 1.0581355545714894e-06,\n",
       " 736051: 0.0,\n",
       " 612201: 1.0581355545714894e-06,\n",
       " 736053: 5.290677772857447e-07,\n",
       " 8296: 0.0,\n",
       " 25001: 1.0581355545714894e-06,\n",
       " 25835: 5.290677772857447e-07,\n",
       " 25004: 0.0,\n",
       " 77769: 1.021184789173755e-05,\n",
       " 598329: 4.11077265049797e-06,\n",
       " 101299: 6.550362956871125e-07,\n",
       " 8779: 3.514521663398162e-06,\n",
       " 73098: 4.728543259491344e-06,\n",
       " 462344: 2.634316641068604e-06,\n",
       " 71600: 1.0581355545714894e-06,\n",
       " 15566: 0.0,\n",
       " 9668: 0.0,\n",
       " 489690: 0.0,\n",
       " 18948: 0.0,\n",
       " 454630: 0.00011175423078495746,\n",
       " 255331: 1.65220308735234e-05,\n",
       " 523735: 0.0,\n",
       " 12118: 0.0,\n",
       " 736071: 0.0007306995537786859,\n",
       " 412951: 8.118053671454898e-05,\n",
       " 297748: 0.00034841649652954024,\n",
       " 206273: 0.0003435773647540859,\n",
       " 317263: 0.0001410781462774148,\n",
       " 52955: 3.136502642754406e-05,\n",
       " 8755: 8.118053671454898e-05,\n",
       " 20029: 0.0,\n",
       " 17464: 0.0,\n",
       " 736077: 0.0,\n",
       " 733314: 2.4072583866501387e-06,\n",
       " 735937: 5.819745550143193e-07,\n",
       " 152340: 4.728543259491344e-06,\n",
       " 454575: 2.634316641068604e-06,\n",
       " 454576: 1.0581355545714894e-06,\n",
       " 151270: 0.0,\n",
       " 161458: 1.0581355545714894e-06,\n",
       " 153039: 5.290677772857447e-07,\n",
       " 161459: 0.0,\n",
       " 72527: 4.728543259491344e-06,\n",
       " 303511: 2.634316641068604e-06,\n",
       " 71988: 1.0581355545714894e-06,\n",
       " 303494: 0.0,\n",
       " 623901: 5.815824376262699e-05,\n",
       " 9176: 8.445433347701307e-05,\n",
       " 736087: 2.2838689929139888e-05,\n",
       " 736088: 4.0525041358323115e-06,\n",
       " 351736: 0.0,\n",
       " 433871: 2.2485380534644155e-06,\n",
       " 560342: 2.645338886428724e-06,\n",
       " 736100: 0.0,\n",
       " 347668: 1.0581355545714894e-06,\n",
       " 347540: 5.290677772857447e-07,\n",
       " 8812: 0.0,\n",
       " 145415: 0.0018061089037647625,\n",
       " 156191: 7.985152508463893e-05,\n",
       " 454551: 0.001587268965518823,\n",
       " 65311: 0.00013645243120284824,\n",
       " 194754: 6.0646527309190136e-05,\n",
       " 155136: 8.427375151063376e-06,\n",
       " 112892: 0.0005135357126808353,\n",
       " 736103: 1.4560668742394002e-05,\n",
       " 31308: 8.368710445089843e-06,\n",
       " 255897: 4.210497727565719e-06,\n",
       " 8295: 1.5872033318572343e-06,\n",
       " 8600: 0.0,\n",
       " 736104: 0.0,\n",
       " 8794: 1.322669443214362e-06,\n",
       " 736105: 4.728543259491344e-06,\n",
       " 736106: 2.634316641068604e-06,\n",
       " 340519: 1.0581355545714894e-06,\n",
       " 11789: 0.0,\n",
       " 144768: 0.0002877845617893094,\n",
       " 9030: 0.00011291997460774829,\n",
       " 142794: 0.0007465911901013687,\n",
       " 113170: 2.0722227627084366e-05,\n",
       " 405298: 0.0,\n",
       " 70976: 1.322669443214362e-06,\n",
       " 245479: 3.0383606638409913e-05,\n",
       " 455005: 0.0016808784445331308,\n",
       " 292506: 0.0008560126376960385,\n",
       " 736114: 0.0004097946289018525,\n",
       " 736115: 0.00016955654054847454,\n",
       " 736116: 4.211537045986772e-05,\n",
       " 177003: 0.0004986293415212473,\n",
       " 736118: 0.0,\n",
       " 187315: 0.0003835010767914907,\n",
       " 387656: 0.0001556775636237384,\n",
       " 115124: 3.300627119152639e-05,\n",
       " 9663: 0.000984748080304863,\n",
       " 736119: 0.00047847899525203135,\n",
       " 470090: 0.00019956394569712156,\n",
       " 239859: 4.948295339842528e-05,\n",
       " 378923: 1.4560668742394002e-05,\n",
       " 366850: 8.368710445089843e-06,\n",
       " 113378: 4.210497727565719e-06,\n",
       " 141904: 1.5872033318572343e-06,\n",
       " 312986: 0.0,\n",
       " 560287: 0.0,\n",
       " 560343: 0.00040116186307136403,\n",
       " 273197: 0.0,\n",
       " 15391: 1.723690221545116e-05,\n",
       " 735909: 2.356870979289592e-06,\n",
       " 736137: 1.1414322373643941e-05,\n",
       " 454562: 5.955686576251335e-06,\n",
       " 636531: 2.4910274513870484e-06,\n",
       " 454563: 3.968008329643086e-07,\n",
       " 517988: 1.454936387535798e-06,\n",
       " 461669: 2.6453388864287235e-07,\n",
       " 736142: 1.0581355545714894e-06,\n",
       " 239843: 5.290677772857447e-07,\n",
       " 8344: 0.0,\n",
       " 736148: 5.7659304353203906e-05,\n",
       " 736149: 3.055538229859891e-05,\n",
       " 735637: 1.4978006750473745e-05,\n",
       " 736150: 6.150412910946783e-06,\n",
       " 736151: 1.2344914803334045e-06,\n",
       " 735994: 0.0,\n",
       " 454432: 0.002172919151868076,\n",
       " 736168: 1.0581355545714894e-06,\n",
       " 292455: 5.290677772857447e-07,\n",
       " 461521: 0.0,\n",
       " 736173: 0.0,\n",
       " 454606: 0.0,\n",
       " 45469: 1.0581355545714894e-06,\n",
       " 736174: 5.290677772857447e-07,\n",
       " 8537: 0.0,\n",
       " 454344: 0.0,\n",
       " 736176: 5.004099393494336e-06,\n",
       " 8395: 1.984004164821543e-06,\n",
       " 736177: 8.376906473690959e-07,\n",
       " 9318: 1.0534117351314382e-05,\n",
       " 9052: 1.6060986096174395e-06,\n",
       " 245480: 1.6249938873776453e-05,\n",
       " 736185: 0.0,\n",
       " 420252: 5.815824376262699e-05,\n",
       " 113837: 2.2838689929139888e-05,\n",
       " 113836: 4.0525041358323115e-06,\n",
       " 736189: 1.454936387535798e-06,\n",
       " 8972: 1.322669443214362e-06,\n",
       " 8974: 2.6453388864287235e-07,\n",
       " 736196: 0.0,\n",
       " 8968: 0.0,\n",
       " 113328: 0.000383501076791491,\n",
       " 16454: 0.0001556775636237384,\n",
       " 20325: 3.30062711915264e-05,\n",
       " 290564: 0.0,\n",
       " 239026: 4.728543259491344e-06,\n",
       " 736207: 2.634316641068604e-06,\n",
       " 736208: 1.0581355545714894e-06,\n",
       " 72117: 0.0,\n",
       " 518616: 2.1264325696273555e-05,\n",
       " 124138: 8.320010692879675e-06,\n",
       " 71944: 1.0558681212402652e-05,\n",
       " 303567: 9.470313213414832e-06,\n",
       " 59714: 1.3277081839504164e-06,\n",
       " 112218: 1.4560668742394002e-05,\n",
       " 736211: 8.368710445089843e-06,\n",
       " 141859: 4.210497727565719e-06,\n",
       " 11703: 1.5872033318572343e-06,\n",
       " 9249: 0.0,\n",
       " 736212: 3.948693156821544e-05,\n",
       " 736213: 1.6102975602308185e-05,\n",
       " 9784: 3.3003751821158374e-06,\n",
       " 9114: 3.737485940968583e-05,\n",
       " 557666: 0.0,\n",
       " 9286: 0.0,\n",
       " 736221: 0.001680878444533131,\n",
       " 112594: 0.0008560126376960383,\n",
       " 736222: 0.00040979462890185263,\n",
       " 454404: 0.0009324072390675178,\n",
       " 736223: 0.00016955654054847457,\n",
       " 736224: 4.211537045986773e-05,\n",
       " 58909: 7.936016659286172e-07,\n",
       " 58910: 0.0,\n",
       " 9354: 3.968008329643087e-06,\n",
       " 151022: 8.55391255954785e-05,\n",
       " 150631: 1.054376816522417e-05,\n",
       " 9185: 0.0,\n",
       " 114482: 7.641250326226971e-06,\n",
       " 256337: 0.0002092345786537988,\n",
       " 449967: 0.0,\n",
       " 9504: 0.0,\n",
       " 148645: 0.00038839138358144035,\n",
       " 356321: 0.00019999600833792898,\n",
       " 143337: 3.9345019540561955e-05,\n",
       " 9077: 0.0015641040845394579,\n",
       " 9279: 1.0581355545714894e-06,\n",
       " 465447: 5.290677772857447e-07,\n",
       " 736242: 0.0,\n",
       " 736244: 0.0,\n",
       " 225620: 1.5872033318572343e-06,\n",
       " 736245: 1.0581355545714894e-06,\n",
       " 203556: 5.290677772857447e-07,\n",
       " 369440: 0.0,\n",
       " 736247: 0.0002826790604475022,\n",
       " 596990: 0.00011347715097314009,\n",
       " 596991: 2.2974073370031964e-05,\n",
       " 67650: 0.0,\n",
       " 151740: 0.0,\n",
       " 454346: 0.00020707979243572182,\n",
       " 8915: 0.00027711938226950337,\n",
       " 736248: 0.00010558766368788165,\n",
       " 73143: 1.672278530715712e-05,\n",
       " 454729: 5.1068693244914944e-05,\n",
       " 736250: 3.870555665431327e-05,\n",
       " 534171: 2.2301780073256657e-05,\n",
       " 736251: 1.2008877630688344e-05,\n",
       " 333097: 5.786678814062834e-06,\n",
       " 736252: 2.116271109142979e-06,\n",
       " 519084: 0.0,\n",
       " 682540: 0.0,\n",
       " 255616: 0.00046112035846004537,\n",
       " 736255: 7.27468193767899e-07,\n",
       " 736256: 1.3226694432143618e-07,\n",
       " 102680: 0.0,\n",
       " 379028: 1.4560668742394002e-05,\n",
       " 736263: 8.368710445089843e-06,\n",
       " 166909: 4.210497727565719e-06,\n",
       " 523861: 1.5872033318572343e-06,\n",
       " 32027: 0.0,\n",
       " 8525: 6.172457401667022e-06,\n",
       " 736265: 2.6894278678692028e-06,\n",
       " 115516: 5.290677772857447e-07,\n",
       " 9192: 0.00011175423078495746,\n",
       " 8895: 0.00018246036016364482,\n",
       " 736266: 1.65220308735234e-05,\n",
       " 145465: 1.454936387535798e-06,\n",
       " 9648: 1.322669443214362e-06,\n",
       " 454699: 2.6453388864287235e-07,\n",
       " 2532: 0.0,\n",
       " 23781: 0.0,\n",
       " 736291: 1.0581355545714894e-06,\n",
       " 1988: 5.290677772857447e-07,\n",
       " 217769: 0.0,\n",
       " 612681: 0.00028739179840885776,\n",
       " 142765: 0.00011264994978368791,\n",
       " 736296: 2.057494135941507e-05,\n",
       " 454720: 0.0,\n",
       " 48144: 0.0,\n",
       " 736303: 0.0,\n",
       " 23160: 7.936016659286172e-07,\n",
       " 736317: 0.0,\n",
       " 9355: 0.0,\n",
       " 514614: 1.0581355545714894e-06,\n",
       " 514615: 5.290677772857447e-07,\n",
       " 323872: 0.0,\n",
       " 736324: 0.0,\n",
       " 736325: 0.0,\n",
       " 736314: 0.0,\n",
       " 460081: 4.728543259491344e-06,\n",
       " 446888: 2.634316641068604e-06,\n",
       " 736328: 1.0581355545714894e-06,\n",
       " 110572: 0.0,\n",
       " 736330: 2.531295387769352e-05,\n",
       " 37193: 1.0425574477958538e-05,\n",
       " 9680: 2.151542294295362e-06,\n",
       " 639216: 0.0,\n",
       " 434493: 1.0581355545714894e-06,\n",
       " 454624: 5.290677772857447e-07,\n",
       " 9273: 0.0,\n",
       " 490372: 9.553660416639703e-05,\n",
       " 736339: 5.462832401537944e-05,\n",
       " 736340: 3.0042891404119313e-05,\n",
       " 736341: 1.5649044816286846e-05,\n",
       " 143137: 7.362859900559947e-06,\n",
       " 736342: 2.645338886428724e-06,\n",
       " 736343: 0.0,\n",
       " 112952: 8.293008189635174e-05,\n",
       " 669715: 1.1505931962776187e-05,\n",
       " 8626: 0.00013120105560773175,\n",
       " 266274: 1.4560668742394002e-05,\n",
       " 8662: 8.368710445089843e-06,\n",
       " 736311: 4.210497727565719e-06,\n",
       " 736345: 1.5872033318572343e-06,\n",
       " 454594: 0.0,\n",
       " 490567: 1.0581355545714894e-06,\n",
       " 92636: 5.290677772857447e-07,\n",
       " 372655: 0.0,\n",
       " 454667: 0.0,\n",
       " 379606: 0.0,\n",
       " 623510: 2.8216948121906386e-06,\n",
       " 651435: 4.4088981440478734e-07,\n",
       " 489219: 0.0,\n",
       " 183258: 3.4389405523573415e-06,\n",
       " 691096: 7.27468193767899e-07,\n",
       " 685225: 1.3226694432143618e-07,\n",
       " 535326: 0.0007220762826820047,\n",
       " 25788: 0.00034867507409039046,\n",
       " 52482: 0.0001439872692845307,\n",
       " 536267: 3.443465666618365e-05,\n",
       " 735892: 6.094214697737398e-06,\n",
       " 735671: 7.374034527192328e-07,\n",
       " 8601: 5.518883966193603e-06,\n",
       " 8723: 5.218022382244015e-06,\n",
       " 9349: 4.1884532368454795e-06,\n",
       " 9212: 6.172457401667022e-07,\n",
       " 342438: 4.728543259491344e-06,\n",
       " 454443: 2.634316641068604e-06,\n",
       " 24574: 1.0581355545714894e-06,\n",
       " 8816: 0.0,\n",
       " 454500: 0.0003835010767914912,\n",
       " 113314: 0.0001556775636237384,\n",
       " 9721: 3.30062711915264e-05,\n",
       " 167157: 0.0,\n",
       " 167158: 0.0,\n",
       " 736004: 0.0,\n",
       " 20444: 0.00026308199988078193,\n",
       " 255538: 8.547299212331777e-05,\n",
       " 8932: 1.0477634693063446e-05,\n",
       " 206360: 2.3808049977858513e-06,\n",
       " 8890: 0.0,\n",
       " 168159: 1.454936387535798e-06,\n",
       " 239119: 1.322669443214362e-06,\n",
       " 75302: 2.6453388864287235e-07,\n",
       " 504351: 0.00031474997881839273,\n",
       " 379147: 0.0,\n",
       " 25540: 0.0,\n",
       " 736368: 0.0,\n",
       " 736373: 0.0,\n",
       " 364838: 0.0,\n",
       " 523756: 0.0001225299694064339,\n",
       " 489298: 6.179953408320204e-05,\n",
       " 364998: 2.891542134880093e-05,\n",
       " 736375: 1.1228109179345628e-05,\n",
       " 524733: 1.904042045542323e-06,\n",
       " 735715: 0.0,\n",
       " 8522: 0.0,\n",
       " 72941: 1.0581355545714894e-06,\n",
       " 72942: 5.290677772857447e-07,\n",
       " 72943: 0.0,\n",
       " 454665: 0.0,\n",
       " 15988: 0.0,\n",
       " 736387: 0.0,\n",
       " 454223: 0.002067196293744178,\n",
       " 543264: 1.1787504109407993e-05,\n",
       " 539916: 1.6690828688181234e-06,\n",
       " 673778: 1.021184789173755e-05,\n",
       " 30835: 4.11077265049797e-06,\n",
       " 736390: 6.550362956871125e-07,\n",
       " 72166: 3.514521663398162e-06,\n",
       " 255318: 0.0,\n",
       " 514898: 1.0581355545714894e-06,\n",
       " 736401: 5.290677772857447e-07,\n",
       " 462338: 0.0,\n",
       " 736402: 0.0,\n",
       " 524114: 0.0,\n",
       " 424729: 0.0,\n",
       " 8901: 8.200550547929046e-06,\n",
       " 8534: 0.0006578088533998177,\n",
       " 736080: 0.0,\n",
       " 518631: 4.728543259491344e-06,\n",
       " 19212: 2.634316641068604e-06,\n",
       " 255411: 1.0581355545714894e-06,\n",
       " 9329: 0.0,\n",
       " 143338: 0.0,\n",
       " 226776: 0.000984748080304862,\n",
       " 612599: 0.0004784789952520319,\n",
       " 396117: 0.00019956394569712156,\n",
       " 578479: 4.948295339842528e-05,\n",
       " 81302: 0.0008336747710024616,\n",
       " 255684: 0.00011175423078495746,\n",
       " 150239: 1.65220308735234e-05,\n",
       " 264936: 0.0,\n",
       " 454487: 0.0,\n",
       " 8305: 0.0,\n",
       " 736435: 0.0,\n",
       " 736439: 0.00011175423078495747,\n",
       " 146502: 1.6522030873523402e-05,\n",
       " 638714: 4.728543259491344e-06,\n",
       " 736440: 2.634316641068604e-06,\n",
       " 736441: 1.0581355545714894e-06,\n",
       " 630705: 0.0,\n",
       " 206207: 2.909872775071596e-06,\n",
       " 114305: 5.290677772857447e-07,\n",
       " 72829: 0.0,\n",
       " 736443: 0.0,\n",
       " 8916: 0.0,\n",
       " 42512: 0.0,\n",
       " 431672: 4.728543259491344e-06,\n",
       " 736446: 2.634316641068604e-06,\n",
       " 462316: 1.0581355545714894e-06,\n",
       " 462313: 0.0,\n",
       " 439477: 0.0,\n",
       " 151206: 0.000288657943516892,\n",
       " 21856: 0.00011352042454546145,\n",
       " 151207: 2.104974577492792e-05,\n",
       " 10063: 0.0,\n",
       " 736456: 0.0,\n",
       " 519311: 0.0,\n",
       " 461726: 5.004099393494336e-06,\n",
       " 461688: 8.376906473690959e-07,\n",
       " 735748: 4.728543259491344e-06,\n",
       " 73109: 2.634316641068604e-06,\n",
       " 205294: 1.0581355545714894e-06,\n",
       " 83956: 0.0,\n",
       " 300818: 1.4667774282655263e-05,\n",
       " 59808: 5.818485864959178e-06,\n",
       " 9566: 5.9557915500166695e-06,\n",
       " 515702: 9.372057769061765e-07,\n",
       " 454470: 2.0942266184227397e-06,\n",
       " 8729: 3.086228700833511e-07,\n",
       " 454384: 2.1162711091429793e-06,\n",
       " 8478: 0.0,\n",
       " 232897: 3.6814299502799736e-06,\n",
       " 102444: 8.376906473690958e-07,\n",
       " 8554: 0.0,\n",
       " 273797: 3.870555665431327e-05,\n",
       " 736470: 2.2301780073256657e-05,\n",
       " 5696: 1.2008877630688344e-05,\n",
       " 110386: 5.786678814062834e-06,\n",
       " 182055: 2.116271109142979e-06,\n",
       " 192355: 0.0,\n",
       " 42085: 1.1414322373643941e-05,\n",
       " 58891: 5.955686576251335e-06,\n",
       " 74503: 2.4910274513870484e-06,\n",
       " 24527: 3.968008329643086e-07,\n",
       " 351585: 2.708323145629408e-06,\n",
       " 219490: 2.7587105529899546e-06,\n",
       " 255733: 3.275181478435563e-07,\n",
       " 736471: 0.0,\n",
       " 736472: 0.0,\n",
       " 514330: 1.0534117351314382e-05,\n",
       " 468729: 1.6060986096174395e-06,\n",
       " 454541: 1.0581355545714894e-06,\n",
       " 8637: 5.290677772857447e-07,\n",
       " 379519: 0.0,\n",
       " 735919: 1.4560668742394002e-05,\n",
       " 736485: 8.368710445089843e-06,\n",
       " 736486: 4.210497727565719e-06,\n",
       " 736487: 1.5872033318572343e-06,\n",
       " 736488: 0.0,\n",
       " 736498: 0.0,\n",
       " 265259: 1.0581355545714894e-06,\n",
       " 80700: 5.290677772857447e-07,\n",
       " 1655: 0.0,\n",
       " 736499: 0.0,\n",
       " 182935: 0.0,\n",
       " 8381: 0.0,\n",
       " 114561: 0.0,\n",
       " 96028: 2.0942266184227397e-06,\n",
       " 364802: 3.086228700833511e-07,\n",
       " 452759: 0.0,\n",
       " 116007: 0.0,\n",
       " 355601: 0.0,\n",
       " 379876: 0.0,\n",
       " 544393: 1.0581355545714894e-06,\n",
       " 736509: 5.290677772857447e-07,\n",
       " 712086: 0.0,\n",
       " 736512: 0.0,\n",
       " 380143: 0.0,\n",
       " 650273: 0.0,\n",
       " 8553: 0.00014447378137459998,\n",
       " 518923: 1.0581355545714894e-06,\n",
       " 8754: 5.290677772857447e-07,\n",
       " 52355: 0.0,\n",
       " 115144: 0.0,\n",
       " ...}"
      ]
     },
     "execution_count": 47,
     "metadata": {},
     "output_type": "execute_result"
    }
   ],
   "source": [
    "betweeness"
   ]
  },
  {
   "cell_type": "code",
   "execution_count": 56,
   "metadata": {},
   "outputs": [
    {
     "data": {
      "image/png": "[encoded data removed]",
      "text/plain": [
       "<matplotlib.figure.Figure at 0x11a0c2630>"
      ]
     },
     "metadata": {},
     "output_type": "display_data"
    }
   ],
   "source": [
    "x= sorted(list(betweeness.keys()),reverse=True)\n",
    "y= sorted(list(betweeness.values()),reverse=True)\n",
    "plt.hist( y)\n",
    "plt.show()"
   ]
  },
  {
   "cell_type": "code",
   "execution_count": 57,
   "metadata": {
    "collapsed": true
   },
   "outputs": [],
   "source": [
    "def centrality_scatter(dict1,dict2, ylab=\"\",xlab=\"\",title=\"\",line=False):\n",
    " # Create figure and drawing axis\n",
    "    fig = plt.figure(figsize=(7,7))\n",
    "    ax1 = fig.add_subplot(111)\n",
    "    # Create items and extract centralities\n",
    "    items1 = sorted(dict1.items())\n",
    "    items2 = sorted(dict2.items())\n",
    "    xdata=[b for a,b in items1]\n",
    "    ydata=[b for a,b in items2]\n",
    "\n",
    "    # Add each actor to the plot by ID\n",
    "    for p in range(len(items1)):\n",
    "        ax1.text(x=xdata[p], y=ydata[p],s=str(items1[p][0]), color=\"b\")\n",
    "\n",
    "    if line:\n",
    "        # use NumPy to calculate the best fit\n",
    "        slope, yint = np.polyfit(xdata,ydata,1)\n",
    "        xline = plt.xticks()[0]\n",
    "        yline = list(map(lambda x: slope*x+yint,xline))\n",
    "        ax1.plot(xline,yline,ls='--',color='r')\n",
    "    # Set new x- and y-axis limits\n",
    "    plt.xlim((0.0,max(xdata)+(.15*max(xdata))))\n",
    "    plt.ylim((0.0,max(ydata)+(.15*max(ydata))))\n",
    "    # Add labels and save\n",
    "    ax1.set_title(title)\n",
    "    ax1.set_xlabel(xlab)\n",
    "    ax1.set_ylabel(ylab) \n",
    "    plt.show()"
   ]
  },
  {
   "cell_type": "code",
   "execution_count": 58,
   "metadata": {},
   "outputs": [
    {
     "data": {
      "image/png": "[encoded data removed]",
      "text/plain": [
       "<matplotlib.figure.Figure at 0x11a5275c0>"
      ]
     },
     "metadata": {},
     "output_type": "display_data"
    }
   ],
   "source": [
    "centrality_scatter(closeness,betweeness,\"Closeness\", \"Betweeness\", \"Closess vs Betweeness Centrality measures\", True)"
   ]
  },
  {
   "cell_type": "markdown",
   "metadata": {},
   "source": [
    "# Point 2.2"
   ]
  },
  {
   "cell_type": "code",
   "execution_count": 23,
   "metadata": {
    "collapsed": true
   },
   "outputs": [],
   "source": [
    "def author_subgraph(graph,n, d):\n",
    "  \n",
    "   return nx.ego_graph(G,n, radius=d, center=True, undirected=True)"
   ]
  },
  {
   "cell_type": "code",
   "execution_count": 42,
   "metadata": {
    "collapsed": true
   },
   "outputs": [],
   "source": [
    "def draw_author_subgraph(author_distance, node_input):\n",
    "    set_color=[ 'blue' if node==node_input else 'red' for node in author_distance]\n",
    "    return nx.draw_networkx(author_distance, with_labels=False,node_color=set_color, \n",
    "                   labels=nx.get_node_attributes(author_distance,'author_name'), \n",
    "                   font_weight='bold',node_size=5,edge_size=0.004,edge_color=\"grey\")"
   ]
  },
  {
   "cell_type": "code",
   "execution_count": 25,
   "metadata": {
    "collapsed": true
   },
   "outputs": [],
   "source": [
    "author_distance= author_subgraph(G,7809, 2)"
   ]
  },
  {
   "cell_type": "code",
   "execution_count": null,
   "metadata": {
    "collapsed": true
   },
   "outputs": [],
   "source": []
  },
  {
   "cell_type": "code",
   "execution_count": 26,
   "metadata": {},
   "outputs": [
    {
     "data": {
      "text/plain": [
       "'Name: \\nType: Graph\\nNumber of nodes: 458\\nNumber of edges: 1875\\nAverage degree:   8.1878'"
      ]
     },
     "execution_count": 26,
     "metadata": {},
     "output_type": "execute_result"
    }
   ],
   "source": [
    "nx.info(author_distance)"
   ]
  },
  {
   "cell_type": "code",
   "execution_count": 43,
   "metadata": {},
   "outputs": [
    {
     "data": {
      "image/png": "[encoded data removed]",
      "text/plain": [
       "<matplotlib.figure.Figure at 0x13bd89ef0>"
      ]
     },
     "metadata": {},
     "output_type": "display_data"
    }
   ],
   "source": [
    "draw_author_subgraph(author_distance,7809)\n",
    "plt.show()"
   ]
  },
  {
   "cell_type": "markdown",
   "metadata": {},
   "source": [
    "# POINT 3.1"
   ]
  },
  {
   "cell_type": "markdown",
   "metadata": {},
   "source": [
    "Aris id is 256176"
   ]
  },
  {
   "cell_type": "code",
   "execution_count": 16,
   "metadata": {
    "collapsed": true
   },
   "outputs": [],
   "source": [
    "aris=256176"
   ]
  },
  {
   "cell_type": "markdown",
   "metadata": {},
   "source": [
    "Define a function to find the shortest path"
   ]
  },
  {
   "cell_type": "code",
   "execution_count": 21,
   "metadata": {
    "collapsed": true
   },
   "outputs": [],
   "source": [
    "lst_tot=[]\n",
    "for xx in G.nodes(): \n",
    "    for yy in G[xx]:\n",
    "\n",
    "        lst=(xx,yy,G[xx][yy][\"weight\"])\n",
    "        lst_tot.append(lst)\n",
    "        "
   ]
  },
  {
   "cell_type": "code",
   "execution_count": 30,
   "metadata": {
    "collapsed": true
   },
   "outputs": [],
   "source": [
    "def dijkstra_heap(edges, start, end):\n",
    "    g = defaultdict(list)\n",
    "    for node1,node2,weight in edges:\n",
    "        g[node1].append((weight,node2))\n",
    "\n",
    "    q = [(0,start,())] \n",
    "    seen=set()\n",
    "    while q:\n",
    "        (cost,v1,path) = heappop(q)\n",
    "        if v1 not in seen:\n",
    "            seen.add(v1)\n",
    "            path = (v1, path)\n",
    "            if v1 == end: return (cost)\n",
    "\n",
    "            for c, v2 in g.get(v1, ()):\n",
    "                if v2 not in seen:\n",
    "                    heappush(q, (cost+c, v2, path))\n",
    "\n",
    "    return float(\"inf\")"
   ]
  },
  {
   "cell_type": "markdown",
   "metadata": {},
   "source": [
    "Now take an author in input"
   ]
  },
  {
   "cell_type": "code",
   "execution_count": 17,
   "metadata": {},
   "outputs": [
    {
     "name": "stdout",
     "output_type": "stream",
     "text": [
      "Type author id:\n",
      "7809\n"
     ]
    }
   ],
   "source": [
    "control=False\n",
    "while control==False:\n",
    "    print(\"Type author id:\")\n",
    "    aut_input=int(input())\n",
    "    if aut_input in G.nodes():\n",
    "        control=True\n",
    "    else:\n",
    "        print(\"Invalid input:\\nTry another time\\n\")"
   ]
  },
  {
   "cell_type": "code",
   "execution_count": 23,
   "metadata": {
    "collapsed": true
   },
   "outputs": [],
   "source": [
    "xx=20405\n",
    "yy=16390"
   ]
  },
  {
   "cell_type": "code",
   "execution_count": 31,
   "metadata": {},
   "outputs": [
    {
     "data": {
      "text/plain": [
       "9.98726551226551"
      ]
     },
     "execution_count": 31,
     "metadata": {},
     "output_type": "execute_result"
    }
   ],
   "source": [
    "dijkstra_heap(lst_tot,xx,yy)"
   ]
  },
  {
   "cell_type": "markdown",
   "metadata": {},
   "source": [
    "# Point 3.2"
   ]
  },
  {
   "cell_type": "markdown",
   "metadata": {},
   "source": [
    "Write a Python software that takes in input a subset of nodes (cardinality smaller than 21) and returns, for each node of the graph, its GroupNumber"
   ]
  },
  {
   "cell_type": "code",
   "execution_count": null,
   "metadata": {
    "collapsed": true
   },
   "outputs": [],
   "source": []
  }
 ],
 "metadata": {
  "kernelspec": {
   "display_name": "Python 3",
   "language": "python",
   "name": "python3"
  },
  "language_info": {
   "codemirror_mode": {
    "name": "ipython",
    "version": 3
   },
   "file_extension": ".py",
   "mimetype": "text/x-python",
   "name": "python",
   "nbconvert_exporter": "python",
   "pygments_lexer": "ipython3",
   "version": "3.6.1"
  }
 },
 "nbformat": 4,
 "nbformat_minor": 2
}
