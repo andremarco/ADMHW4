{
 "cells": [
  {
   "cell_type": "markdown",
   "metadata": {},
   "source": [
    "## Data\n",
    "\n",
    "For the following homework, we will be using a dataset under format JSON. The dataset consists of information regarding scientific conference informations, which have already been extracted from an in-house database:\n",
    "-  **Authors** : information about author, separated by authorID and Author name\n",
    "-  **Conference**: data containing infomation about a particular conference made of a conferenceID and the URL of conference in the site the data was collected from\n",
    "-  **publication**: information about a publication made in a conference, that contains the publication ID, the URL of the publication and the title of the publication\n",
    "\n",
    "A record in the JSON database is made of a list of authors, a conference ID, a conference Name, a conference URL, a  publication ID, a publication URL and the title the publication.\n",
    "\n",
    "## Team\n",
    "The team (Malick, Andreas and Biko) responsible for the analytics of the above dataset is  made of 3 data science students. The task to be performed on this data set are available on this following link. http://aris.me/contents/teaching/data-mining-ds-2017/homeworks/homework4.pdf\n",
    "\n",
    "\n"
   ]
  },
  {
   "cell_type": "code",
   "execution_count": 1,
   "metadata": {
    "collapsed": true
   },
   "outputs": [],
   "source": [
    "import networkx as nx\n",
    "import json\n",
    "import collections\n",
    "import itertools\n",
    "import matplotlib.pyplot as plt\n",
    "import numpy as np\n",
    "from tqdm import tqdm\n",
    "from collections import defaultdict\n",
    "from heapq import *\n",
    "import pickle"
   ]
  },
  {
   "cell_type": "markdown",
   "metadata": {},
   "source": [
    "# PART 1: Data Cleaning "
   ]
  },
  {
   "cell_type": "markdown",
   "metadata": {},
   "source": [
    "Our first task in hand was the creation  of a network or a graph. One of our main goal is to understand the relationship between author and publication. Consequently we want to map out the different relationships between author and publication within a network so that we can analyse that network and derive some interesting information about it. By the end of this PART 1, we should have a graph that is made of as nodes Author ID.\n",
    "\n",
    "The graph itelf is going to be a undirected graph that has weighted edges between authors that share at least one publication. The weight of those edges are going to be determined how similar two sets of publication are. We will be using the Jaccard similarity to deremined the weight.\n",
    "\n",
    "    1.1 Data : \n",
    "The data is a single JSON file  (Reduce for testing and Full for analysis). The reduced dataset (size 1.44 MB) contains approximatively 3086 recods whereas the Full dataset (88.4 MB) contains records.\n",
    "    \n",
    "    2.1 Methods:\n",
    "-  jaccard_sim(set1,set2): used the calculate the jaccard similarity between two sets of publication\n",
    "-  load_json(name): Load a particular JSON file\n",
    "-  save_json(name_file, data ): Save data in a variable "
   ]
  },
  {
   "cell_type": "markdown",
   "metadata": {},
   "source": [
    "# Definition of jaccard similarity"
   ]
  },
  {
   "cell_type": "code",
   "execution_count": 2,
   "metadata": {
    "collapsed": true
   },
   "outputs": [],
   "source": [
    "def jaccard_sim(set1,set2):\n",
    "    set1=set(set1)\n",
    "    set2=set(set2)\n",
    "    return len(set1 & set2)/len( set1 | set2)"
   ]
  },
  {
   "cell_type": "markdown",
   "metadata": {},
   "source": [
    "Define some functions to read and store data"
   ]
  },
  {
   "cell_type": "code",
   "execution_count": 3,
   "metadata": {
    "collapsed": true
   },
   "outputs": [],
   "source": [
    "def load_json(name):\n",
    "    with open( name + '.json', 'r') as f:\n",
    "        return json.load(f)"
   ]
  },
  {
   "cell_type": "code",
   "execution_count": 4,
   "metadata": {
    "collapsed": true
   },
   "outputs": [],
   "source": [
    "def save_json(name_file, data ):\n",
    "    with open( name_file + '.json', 'w') as f:\n",
    "        return json.dump(data, f,indent=3)"
   ]
  },
  {
   "cell_type": "code",
   "execution_count": 5,
   "metadata": {
    "collapsed": true
   },
   "outputs": [],
   "source": [
    "def load_obj_pickle(name):\n",
    "    with open(name + '.pkl', 'rb') as f:\n",
    "        return pickle.load(f)\n",
    " "
   ]
  },
  {
   "cell_type": "code",
   "execution_count": 6,
   "metadata": {
    "collapsed": true
   },
   "outputs": [],
   "source": [
    "def save_obj_pickle(obj, name):\n",
    "    with open(name + '.pkl', 'wb+') as f:\n",
    "        pickle.dump(obj, f, pickle.HIGHEST_PROTOCOL)"
   ]
  },
  {
   "cell_type": "code",
   "execution_count": 7,
   "metadata": {
    "collapsed": true
   },
   "outputs": [],
   "source": [
    "def save_graph(graph,file):\n",
    "    \n",
    "    return nx.write_gpickle(graph, file + 'gpickle')\n",
    "    "
   ]
  },
  {
   "cell_type": "code",
   "execution_count": 8,
   "metadata": {
    "collapsed": true
   },
   "outputs": [],
   "source": [
    "def read_graph(file):   \n",
    "    \n",
    "    return nx.read_gpickle(file + 'gpickle')"
   ]
  },
  {
   "cell_type": "markdown",
   "metadata": {},
   "source": [
    "Create a function that return a set that contain a set of conference"
   ]
  },
  {
   "cell_type": "code",
   "execution_count": 9,
   "metadata": {
    "collapsed": true
   },
   "outputs": [],
   "source": [
    "def create_conf_lst(diz):\n",
    "    lst=set()\n",
    "    for i in tqdm(range(len(diz))):\n",
    "        lst.add(diz[i][\"id_conference_int\"])\n",
    "    return lst"
   ]
  },
  {
   "cell_type": "markdown",
   "metadata": {
    "collapsed": true
   },
   "source": [
    "Read the Json file from local"
   ]
  },
  {
   "cell_type": "code",
   "execution_count": 10,
   "metadata": {
    "collapsed": true
   },
   "outputs": [],
   "source": [
    "data=load_json('reduced_dblp')"
   ]
  },
  {
   "cell_type": "code",
   "execution_count": 11,
   "metadata": {},
   "outputs": [
    {
     "name": "stderr",
     "output_type": "stream",
     "text": [
      "100%|██████████████████████████████████| 3096/3096 [00:00<00:00, 773963.83it/s]\n"
     ]
    }
   ],
   "source": [
    "conf_lst=create_conf_lst(data)"
   ]
  },
  {
   "cell_type": "markdown",
   "metadata": {},
   "source": [
    "Create an empty graph"
   ]
  },
  {
   "cell_type": "code",
   "execution_count": 12,
   "metadata": {
    "collapsed": true
   },
   "outputs": [],
   "source": [
    "G=nx.Graph()"
   ]
  },
  {
   "cell_type": "markdown",
   "metadata": {},
   "source": [
    "Define a function to create a dictionaty usefull to access information very fast"
   ]
  },
  {
   "cell_type": "code",
   "execution_count": 13,
   "metadata": {
    "collapsed": true
   },
   "outputs": [],
   "source": [
    "def dict_name(data):  \n",
    "\n",
    "    DICT={}\n",
    "  \n",
    "    for i in tqdm(range(len(data))):\n",
    "\n",
    "        for auth in range(len(data[i]['authors'])):\n",
    "\n",
    "            if data[i]['authors'][auth]['author_id'] not in DICT.keys():\n",
    "\n",
    "                DICT[data[i]['authors'][auth]['author_id']]={'author_name':data[i]['authors'][auth]['author'],\n",
    "                                               'id_publication_int':[data[i]['id_publication_int']],\n",
    "                                               'id_conference_int':[data[i]['id_conference_int']]}    \n",
    "\n",
    "            else:\n",
    "                DICT[data[i]['authors'][auth]['author_id']]['id_publication_int'].append(data[i]['id_publication_int']),\n",
    "                DICT[data[i]['authors'][auth]['author_id']]['id_conference_int'].append(data[i]['id_conference_int'])    \n",
    "\n",
    "    return DICT        "
   ]
  },
  {
   "cell_type": "code",
   "execution_count": 14,
   "metadata": {},
   "outputs": [
    {
     "name": "stderr",
     "output_type": "stream",
     "text": [
      "100%|███████████████████████████████████| 3096/3096 [00:00<00:00, 88452.11it/s]\n"
     ]
    }
   ],
   "source": [
    "data_small=dict_name(data) "
   ]
  },
  {
   "cell_type": "code",
   "execution_count": 15,
   "metadata": {
    "collapsed": true
   },
   "outputs": [],
   "source": [
    "def graph_complete(data):\n",
    "    G=nx.Graph()\n",
    "    for k,v in tqdm(data.items()):\n",
    "        G.add_node(k, **v)  #**v take the dict like attr\n",
    "    return G\n"
   ]
  },
  {
   "cell_type": "markdown",
   "metadata": {},
   "source": [
    "# Add nodes"
   ]
  },
  {
   "cell_type": "markdown",
   "metadata": {},
   "source": [
    "Define a function to add nodes to graph."
   ]
  },
  {
   "cell_type": "markdown",
   "metadata": {},
   "source": [
    "Each node of the graph is an author ID"
   ]
  },
  {
   "cell_type": "code",
   "execution_count": 16,
   "metadata": {
    "collapsed": true
   },
   "outputs": [],
   "source": [
    "def graph_complete(data):\n",
    "    G=nx.Graph()\n",
    "    for k,v in tqdm(data.items()):\n",
    "        G.add_node(k, **v)  #**v take the dict like attr\n",
    "    return G"
   ]
  },
  {
   "cell_type": "code",
   "execution_count": 17,
   "metadata": {},
   "outputs": [
    {
     "name": "stderr",
     "output_type": "stream",
     "text": [
      "100%|██████████████████████████████████| 7771/7771 [00:00<00:00, 267951.89it/s]\n"
     ]
    }
   ],
   "source": [
    "G=graph_complete(data_small)"
   ]
  },
  {
   "cell_type": "markdown",
   "metadata": {},
   "source": [
    "Define a function to create a dictionary which keys are the publication, and the id the list of conferences"
   ]
  },
  {
   "cell_type": "code",
   "execution_count": 18,
   "metadata": {
    "collapsed": true
   },
   "outputs": [],
   "source": [
    "def pub_id_f(data):\n",
    "    \n",
    "    dict_publication={}\n",
    "    for i in tqdm(range(len(data))):\n",
    "        dict_publication[data[i][\"id_publication_int\"]]=[]\n",
    "        for j in range(len(data[i][\"authors\"])):\n",
    "            dict_publication[data[i][\"id_publication_int\"]].append(data[i][\"authors\"][j][\"author_id\"]) \n",
    "        \n",
    "                    \n",
    "    return dict_publication"
   ]
  },
  {
   "cell_type": "code",
   "execution_count": 19,
   "metadata": {},
   "outputs": [
    {
     "name": "stderr",
     "output_type": "stream",
     "text": [
      "100%|██████████████████████████████████| 3096/3096 [00:00<00:00, 182107.86it/s]\n"
     ]
    }
   ],
   "source": [
    "pub_id=pub_id_f(data)"
   ]
  },
  {
   "cell_type": "markdown",
   "metadata": {},
   "source": [
    "# Add edges using jaccard similarity as weight"
   ]
  },
  {
   "cell_type": "code",
   "execution_count": 20,
   "metadata": {
    "collapsed": true
   },
   "outputs": [],
   "source": [
    "def add_weighted_edges(pub_id,graph):\n",
    "\n",
    "    for pub in tqdm(pub_id.keys()):\n",
    "        \n",
    "        for (i,v) in itertools.combinations(pub_id[pub], 2):\n",
    "        \n",
    "            graph.add_edge(i,v, weight= 1-jaccard_sim(graph.node[i]['id_publication_int'],\n",
    "                                                      graph.node[v]['id_publication_int']))\n",
    "\n",
    "    return graph"
   ]
  },
  {
   "cell_type": "code",
   "execution_count": 21,
   "metadata": {},
   "outputs": [
    {
     "name": "stderr",
     "output_type": "stream",
     "text": [
      "100%|███████████████████████████████████| 3096/3096 [00:00<00:00, 18992.74it/s]\n"
     ]
    }
   ],
   "source": [
    "G=add_weighted_edges(pub_id,G)   "
   ]
  },
  {
   "cell_type": "code",
   "execution_count": 22,
   "metadata": {},
   "outputs": [
    {
     "data": {
      "text/plain": [
       "'Name: \\nType: Graph\\nNumber of nodes: 7771\\nNumber of edges: 16489\\nAverage degree:   4.2437'"
      ]
     },
     "execution_count": 22,
     "metadata": {},
     "output_type": "execute_result"
    }
   ],
   "source": [
    "nx.info(G)"
   ]
  },
  {
   "cell_type": "markdown",
   "metadata": {},
   "source": [
    "# POINT 2"
   ]
  },
  {
   "cell_type": "markdown",
   "metadata": {},
   "source": [
    "## SUBPOINT 1"
   ]
  },
  {
   "cell_type": "markdown",
   "metadata": {},
   "source": [
    "Given a conference in input, return the subgraph induced by the set of authors who published at the input conference at least once. Once you have the graph, compute some centralities measures (degree, closeness, betweeness) and plot them."
   ]
  },
  {
   "cell_type": "code",
   "execution_count": 23,
   "metadata": {
    "collapsed": true
   },
   "outputs": [],
   "source": [
    "# We use function subgraph, that wants as parameter the list of nodes that are used in the subgraph"
   ]
  },
  {
   "cell_type": "markdown",
   "metadata": {},
   "source": [
    "Ask to user a conference in input"
   ]
  },
  {
   "cell_type": "code",
   "execution_count": 234,
   "metadata": {},
   "outputs": [
    {
     "name": "stdout",
     "output_type": "stream",
     "text": [
      "Insert conference id:\n",
      "4534342432\n",
      "ERROR\n",
      "Conference ID not found\n",
      "Try another time\n",
      "\n",
      "\n",
      "Insert conference id:\n",
      "3045\n",
      "ERROR\n",
      "Conference ID not found\n",
      "Try another time\n",
      "\n",
      "\n",
      "Insert conference id:\n",
      "16501\n"
     ]
    }
   ],
   "source": [
    "control=False\n",
    "while control==False:\n",
    "\n",
    "\n",
    "    print(\"Insert conference id:\")\n",
    "    conf_input=int(input())\n",
    "    if conf_input not in conf_lst:\n",
    "        print(\"ERROR\\nConference ID not found\")\n",
    "        print(\"Try another time\")\n",
    "        print(\"\\n\")\n",
    "    else:\n",
    "        control=True\n"
   ]
  },
  {
   "cell_type": "code",
   "execution_count": 176,
   "metadata": {
    "collapsed": true
   },
   "outputs": [],
   "source": [
    "def conference_subgraph(data, conf_id):\n",
    "    \n",
    "    return G.subgraph([k for k in tqdm(data.keys()) if conf_id in data[k]['id_conference_int']])"
   ]
  },
  {
   "cell_type": "code",
   "execution_count": 177,
   "metadata": {},
   "outputs": [
    {
     "name": "stderr",
     "output_type": "stream",
     "text": [
      "\n",
      "  0%|          | 0/7771 [00:00<?, ?it/s]\u001b[A\n",
      "100%|██████████| 7771/7771 [00:00<00:00, 954797.91it/s]\u001b[A"
     ]
    }
   ],
   "source": [
    "K=conference_subgraph(data_small,conf_input)"
   ]
  },
  {
   "cell_type": "code",
   "execution_count": 178,
   "metadata": {},
   "outputs": [
    {
     "data": {
      "text/plain": [
       "'Name: \\nType: Graph\\nNumber of nodes: 1012\\nNumber of edges: 1802\\nAverage degree:   3.5613'"
      ]
     },
     "execution_count": 178,
     "metadata": {},
     "output_type": "execute_result"
    }
   ],
   "source": [
    "nx.info(K)"
   ]
  },
  {
   "cell_type": "markdown",
   "metadata": {},
   "source": [
    "Calculate degree centrality"
   ]
  },
  {
   "cell_type": "code",
   "execution_count": 179,
   "metadata": {
    "collapsed": true
   },
   "outputs": [],
   "source": [
    "degree = nx.degree_centrality(K)"
   ]
  },
  {
   "cell_type": "code",
   "execution_count": 180,
   "metadata": {},
   "outputs": [
    {
     "data": {
      "image/png": "[encoded data removed]",
      "text/plain": [
       "<matplotlib.figure.Figure at 0x2112e4048>"
      ]
     },
     "metadata": {},
     "output_type": "display_data"
    }
   ],
   "source": [
    "x= range(len(list(degree.values())))\n",
    "y= sorted(list(degree.values()),reverse=False)\n",
    "plt.scatter(x,y)\n",
    "plt.xlabel(\"Authors ID\")\n",
    "plt.ylabel(\"Degrees\")\n",
    "plt.show()"
   ]
  },
  {
   "cell_type": "code",
   "execution_count": 181,
   "metadata": {},
   "outputs": [
    {
     "data": {
      "image/png": "[encoded data removed]",
      "text/plain": [
       "<matplotlib.figure.Figure at 0x2112e4358>"
      ]
     },
     "metadata": {},
     "output_type": "display_data"
    }
   ],
   "source": [
    "degree_sequence=sorted(degree.values(),reverse=True) # degree sequence\n",
    "\n",
    "plt.loglog(degree_sequence,'b-',marker='o')\n",
    "plt.title(\"Degree rank plot\")\n",
    "plt.ylabel(\"degree\")\n",
    "plt.xlabel(\"rank\")\n",
    "plt.show()"
   ]
  },
  {
   "cell_type": "markdown",
   "metadata": {},
   "source": [
    "Closeness centrality"
   ]
  },
  {
   "cell_type": "code",
   "execution_count": 182,
   "metadata": {
    "collapsed": true
   },
   "outputs": [],
   "source": [
    "closeness=nx.closeness_centrality(K)"
   ]
  },
  {
   "cell_type": "markdown",
   "metadata": {},
   "source": [
    "Betweeness centrality"
   ]
  },
  {
   "cell_type": "code",
   "execution_count": 183,
   "metadata": {
    "collapsed": true
   },
   "outputs": [],
   "source": [
    "betweeness = nx.betweenness_centrality(K,weight=\"weight\")"
   ]
  },
  {
   "cell_type": "code",
   "execution_count": 184,
   "metadata": {},
   "outputs": [
    {
     "data": {
      "image/png": "[encoded data removed]",
      "text/plain": [
       "<matplotlib.figure.Figure at 0x11b078748>"
      ]
     },
     "metadata": {},
     "output_type": "display_data"
    }
   ],
   "source": [
    "x= sorted(list(betweeness.keys()),reverse=True)\n",
    "y= sorted(list(betweeness.values()),reverse=True)\n",
    "plt.hist( y)\n",
    "plt.show()"
   ]
  },
  {
   "cell_type": "code",
   "execution_count": 185,
   "metadata": {
    "collapsed": true
   },
   "outputs": [],
   "source": [
    "def centrality_scatter(dict1,dict2, ylab=\"\",xlab=\"\",title=\"\",line=False):\n",
    " # Create figure and drawing axis\n",
    "    fig = plt.figure(figsize=(7,7))\n",
    "    ax1 = fig.add_subplot(111)\n",
    "    # Create items and extract centralities\n",
    "    items1 = sorted(dict1.items())\n",
    "    items2 = sorted(dict2.items())\n",
    "    xdata=[b for a,b in items1]\n",
    "    ydata=[b for a,b in items2]\n",
    "\n",
    "    # Add each actor to the plot by ID\n",
    "    for p in range(len(items1)):\n",
    "        ax1.text(x=xdata[p], y=ydata[p],s=str(items1[p][0]), color=\"b\")\n",
    "\n",
    "    if line:\n",
    "        # use NumPy to calculate the best fit\n",
    "        slope, yint = np.polyfit(xdata,ydata,1)\n",
    "        xline = plt.xticks()[0]\n",
    "        yline = list(map(lambda x: slope*x+yint,xline))\n",
    "        ax1.plot(xline,yline,ls='--',color='r')\n",
    "    # Set new x- and y-axis limits\n",
    "    plt.xlim((0.0,max(xdata)+(.15*max(xdata))))\n",
    "    plt.ylim((0.0,max(ydata)+(.15*max(ydata))))\n",
    "    # Add labels and save\n",
    "    ax1.set_title(title)\n",
    "    ax1.set_xlabel(xlab)\n",
    "    ax1.set_ylabel(ylab) \n",
    "    plt.show()"
   ]
  },
  {
   "cell_type": "code",
   "execution_count": 186,
   "metadata": {},
   "outputs": [
    {
     "data": {
      "image/png": "[encoded data removed]",
      "text/plain": [
       "<matplotlib.figure.Figure at 0x1227b90f0>"
      ]
     },
     "metadata": {},
     "output_type": "display_data"
    }
   ],
   "source": [
    "centrality_scatter(closeness,betweeness,\"Closeness\", \"Betweeness\", \"Closess vs Betweeness Centrality measures\", True)"
   ]
  },
  {
   "cell_type": "markdown",
   "metadata": {},
   "source": [
    "# Point 2.2"
   ]
  },
  {
   "cell_type": "code",
   "execution_count": 187,
   "metadata": {
    "collapsed": true
   },
   "outputs": [],
   "source": [
    "def author_neighbors(graph,n):\n",
    "    \n",
    "    return list(nx.all_neighbors(graph,n))"
   ]
  },
  {
   "cell_type": "code",
   "execution_count": 188,
   "metadata": {
    "collapsed": true
   },
   "outputs": [],
   "source": [
    "def hop_distance(graph,node,d):\n",
    "    \n",
    "    if d==1:\n",
    "        return author_neighbors(graph,node)+[node]\n",
    "        \n",
    "    else:\n",
    "        ToT=set([node])\n",
    "        N=set(author_neighbors(graph,node))\n",
    "        for i in range(d-1):\n",
    "        \n",
    "            C=set()\n",
    "            for n in N:\n",
    "                L=author_neighbors(graph,n)\n",
    "                A=set(L)\n",
    "                C.update(A)\n",
    "                ToT.update(A)\n",
    "            N=C\n",
    "        \n",
    "        return list(ToT)"
   ]
  },
  {
   "cell_type": "code",
   "execution_count": 189,
   "metadata": {
    "collapsed": true
   },
   "outputs": [],
   "source": [
    "def draw_author_subgraph(graph,author_distance, node_input):\n",
    "    a=graph.subgraph(author_distance)\n",
    "    set_color=[ 'blue' if node==node_input else 'red' for node in a]\n",
    "    return nx.draw_networkx(a, with_labels=False,node_color=set_color, \n",
    "                    node_size=2,\n",
    "                   edge_color='grey', width = 0.1,font_weight='bold')"
   ]
  },
  {
   "cell_type": "markdown",
   "metadata": {},
   "source": [
    "Obtain author id from input"
   ]
  },
  {
   "cell_type": "code",
   "execution_count": 198,
   "metadata": {},
   "outputs": [
    {
     "name": "stdout",
     "output_type": "stream",
     "text": [
      "Type author id:\n",
      "256176\n"
     ]
    }
   ],
   "source": [
    "control=False\n",
    "while control==False:\n",
    "    print(\"Type author id:\")\n",
    "    aut_input1=int(input())\n",
    "    if aut_input1 in G.nodes():\n",
    "        control=True\n",
    "    else:\n",
    "        print(\"Invalid input:\\nTry another time\\n\")"
   ]
  },
  {
   "cell_type": "markdown",
   "metadata": {},
   "source": [
    "Obtain *d* distance from input"
   ]
  },
  {
   "cell_type": "code",
   "execution_count": 199,
   "metadata": {},
   "outputs": [
    {
     "name": "stdout",
     "output_type": "stream",
     "text": [
      "Insert an integer:\n",
      "3\n"
     ]
    }
   ],
   "source": [
    "print(\"Insert an integer:\")\n",
    "dist=int(input())"
   ]
  },
  {
   "cell_type": "code",
   "execution_count": 200,
   "metadata": {
    "collapsed": true
   },
   "outputs": [],
   "source": [
    "author_distance_scratch= hop_distance(G,aut_input1,dist)  "
   ]
  },
  {
   "cell_type": "code",
   "execution_count": 201,
   "metadata": {},
   "outputs": [
    {
     "data": {
      "text/plain": [
       "[101380,\n",
       " 317456,\n",
       " 356372,\n",
       " 226324,\n",
       " 263195,\n",
       " 695329,\n",
       " 523302,\n",
       " 523303,\n",
       " 444456,\n",
       " 444462,\n",
       " 444463,\n",
       " 523311,\n",
       " 172088,\n",
       " 560185,\n",
       " 163903,\n",
       " 220232,\n",
       " 560214,\n",
       " 122973,\n",
       " 85091,\n",
       " 9317,\n",
       " 20582,\n",
       " 18537,\n",
       " 317546,\n",
       " 18538,\n",
       " 695406,\n",
       " 16500,\n",
       " 17525,\n",
       " 17526,\n",
       " 17528,\n",
       " 79993,\n",
       " 101498,\n",
       " 113793,\n",
       " 114820,\n",
       " 114821,\n",
       " 465032,\n",
       " 356527,\n",
       " 256176,\n",
       " 256177,\n",
       " 524464,\n",
       " 524465,\n",
       " 20698,\n",
       " 17629,\n",
       " 622814,\n",
       " 226529,\n",
       " 272611,\n",
       " 255205,\n",
       " 490729,\n",
       " 16618,\n",
       " 16617,\n",
       " 18669,\n",
       " 18672,\n",
       " 18674,\n",
       " 20722,\n",
       " 20724,\n",
       " 20723,\n",
       " 364795,\n",
       " 270600,\n",
       " 270601,\n",
       " 364811,\n",
       " 15628,\n",
       " 101661,\n",
       " 287,\n",
       " 290079,\n",
       " 290081,\n",
       " 256291,\n",
       " 364836,\n",
       " 16680,\n",
       " 255275,\n",
       " 490807,\n",
       " 20793,\n",
       " 569661,\n",
       " 364863,\n",
       " 881985,\n",
       " 256339,\n",
       " 364884,\n",
       " 271706,\n",
       " 364895,\n",
       " 255328,\n",
       " 255327,\n",
       " 272748,\n",
       " 490865,\n",
       " 115063,\n",
       " 695685,\n",
       " 695686,\n",
       " 695687,\n",
       " 364934,\n",
       " 456091,\n",
       " 220576,\n",
       " 226733,\n",
       " 449967,\n",
       " 396734,\n",
       " 150975,\n",
       " 20929,\n",
       " 17864,\n",
       " 143817,\n",
       " 104916,\n",
       " 18910,\n",
       " 365027,\n",
       " 396772,\n",
       " 273893,\n",
       " 365043,\n",
       " 365046,\n",
       " 20994,\n",
       " 311816,\n",
       " 15881,\n",
       " 290313,\n",
       " 39449,\n",
       " 365084,\n",
       " 256548,\n",
       " 15924,\n",
       " 518711,\n",
       " 365141,\n",
       " 20087,\n",
       " 20088,\n",
       " 365188,\n",
       " 188041,\n",
       " 21131,\n",
       " 365200,\n",
       " 269977,\n",
       " 8857,\n",
       " 225947,\n",
       " 255654,\n",
       " 272067,\n",
       " 272068,\n",
       " 283336,\n",
       " 21202,\n",
       " 10973,\n",
       " 433893,\n",
       " 217845,\n",
       " 114427,\n",
       " 500479,\n",
       " 255746,\n",
       " 736003,\n",
       " 19210,\n",
       " 19211,\n",
       " 373531,\n",
       " 369444,\n",
       " 114468,\n",
       " 272169,\n",
       " 29494,\n",
       " 21324,\n",
       " 454482,\n",
       " 18263,\n",
       " 113496,\n",
       " 218970,\n",
       " 461659,\n",
       " 461660,\n",
       " 461661,\n",
       " 218972,\n",
       " 112497,\n",
       " 272242,\n",
       " 272243,\n",
       " 518008,\n",
       " 170894,\n",
       " 44955,\n",
       " 85925,\n",
       " 20392,\n",
       " 461737,\n",
       " 16323,\n",
       " 356291,\n",
       " 444360,\n",
       " 444361,\n",
       " 97247,\n",
       " 53221]"
      ]
     },
     "execution_count": 201,
     "metadata": {},
     "output_type": "execute_result"
    }
   ],
   "source": [
    "author_distance_scratch"
   ]
  },
  {
   "cell_type": "code",
   "execution_count": 202,
   "metadata": {},
   "outputs": [
    {
     "data": {
      "image/png": "[encoded data removed]",
      "text/plain": [
       "<matplotlib.figure.Figure at 0x16235b518>"
      ]
     },
     "metadata": {},
     "output_type": "display_data"
    }
   ],
   "source": [
    "draw_author_subgraph(G,author_distance_scratch,aut_input1) \n",
    "plt.show()"
   ]
  },
  {
   "cell_type": "markdown",
   "metadata": {},
   "source": [
    "# POINT 3.1"
   ]
  },
  {
   "cell_type": "markdown",
   "metadata": {},
   "source": [
    "For part 3, we were tasked with computing some generalized version of the Erdős number, which measures the \"collaborative distance\" in authoring academic papers between that person and Hungarian mathematician Paul Erdős. In our case, instead of using Mr Paul Erdos we will be using Aris.\n",
    "\n",
    "The data we will be using in this case is going to be made off authors as nodes and authors that share at least one publication as weighed edges. \n",
    "\n",
    "The goal of this task is to find the shortest path between an input author and Aris, using the weights previously calculated as a measure of distance. In order to find the shortest path, we will be using the Dijkstra shortest path algorithm. We wrote that algorithm in different ways, unfortunately, we have always stumbled with performance issue. For example, we first used the general implementation of the Dijkstra algorithm as described in Wikipedia. We ended up having a working code that took around 17 minutes to find the shortest path between two nodes. Refactoring the same algorithm allowed us to dial it down to 5 min which was in our case still way too long.\n",
    "\n",
    "After some discussion, we wanted to see is there was a way we could combine the the Dijkstra Algorithm with the different costs saved in a heap since we used to recompute the various cost in our previous implementation. After doing some reseach, we took as reference the approach used by Alexey Kalachev which did exactly want we wanted it to do.\n",
    "\n",
    "So for this task we needed Aris id which is 256176"
   ]
  },
  {
   "cell_type": "code",
   "execution_count": 203,
   "metadata": {
    "collapsed": true
   },
   "outputs": [],
   "source": [
    "aris=256176"
   ]
  },
  {
   "cell_type": "markdown",
   "metadata": {},
   "source": [
    "Then we needed to have a list of edges which is basically saved in a tuple that will containt a starting node, its connected node along with the weights. We will be using that list as a reverence for our Dijksta algorithm."
   ]
  },
  {
   "cell_type": "code",
   "execution_count": 204,
   "metadata": {
    "collapsed": true
   },
   "outputs": [],
   "source": [
    "lst_tot=[]\n",
    "#list of edges to be used in our Dijksta algorithm\n",
    "for xx in G.nodes(): \n",
    "    for yy in G[xx]:\n",
    "\n",
    "        lst=(xx,yy,G[xx][yy][\"weight\"])\n",
    "        lst_tot.append(lst)\n",
    "        "
   ]
  },
  {
   "cell_type": "markdown",
   "metadata": {},
   "source": [
    "One we have a list of edges we can run ou algorighm. It will take as an input the list of edges, a starting node and target node. \n",
    "   \n",
    "1.  We first declare a defaut dictiorary g so that each node in g has a list made of tuples that link to its connected edge along with the weight of that connection\n",
    "2.  we declare a list containing the unvisited node and a set containing the visited node\n",
    "3.  while there are still some unvisited nodes. The unvisited nodes will be a tuple containing the cost , the node itsel and the path is took. If the new unvisited node is not in visited (seen), we then add the that node and its path to the visited set. Now is that particular node is equal to the target node, we return the cost and terminate the algorithm (because this is what we are looking for)\n",
    "4.  if it's not equal to the target vertex, we will take the the vertices is point to, update the code by adding it to the previous, along with the path and pushing it to the heap of unvisited nodes q. Then we will restart at step 3.\n",
    "5. If all the nodes are visited and there are no nurerical cost outputed, the program will return 'inf' which means that there are no path beween the input node and the target node\n"
   ]
  },
  {
   "cell_type": "code",
   "execution_count": 205,
   "metadata": {
    "collapsed": true
   },
   "outputs": [],
   "source": [
    "def dijkstra_heap(edges, start, end):\n",
    "    # default dictionary containing nodes with list of its connected edges and weigh\n",
    "    g = defaultdict(list)\n",
    "    for node1,node2,weight in edges:\n",
    "        g[node1].append((weight,node2)) #saved in tuples\n",
    "\n",
    "    q = [(0,start,())] #unvisited nodes\n",
    "    seen=set() #visited nodes\n",
    "    \n",
    "    while q: #while there are still some visited nodes\n",
    "        (cost,v1,path) = heappop(q) #take the smallest one\n",
    "        if v1 not in seen: #if the node has not been visited yet\n",
    "            seen.add(v1) #add node to the visited one\n",
    "            path = (v1, path) #update the path with this node\n",
    "            if v1 == end: return (cost) #if it is equal to target node return the cost and terminate the algorithm\n",
    "\n",
    "            for c, v2 in g.get(v1, ()): #else get the node its conneted to \n",
    "                if v2 not in seen: #if connected nodes not in the visited ones\n",
    "                    heappush(q, (cost+c, v2, path)) #add the unvisited edges to the heap and restart the loop until target node found\n",
    "\n",
    "    return float(\"inf\") #if the path doesnt exit return infinity"
   ]
  },
  {
   "cell_type": "markdown",
   "metadata": {},
   "source": [
    "Now take an author in input"
   ]
  },
  {
   "cell_type": "code",
   "execution_count": 206,
   "metadata": {},
   "outputs": [
    {
     "name": "stdout",
     "output_type": "stream",
     "text": [
      "Type author id:\n",
      "225741\n"
     ]
    }
   ],
   "source": [
    "control=False\n",
    "while control==False:\n",
    "    print(\"Type author id:\")\n",
    "    aut_input=int(input())\n",
    "    if aut_input in G.nodes():\n",
    "        control=True\n",
    "    else:\n",
    "        print(\"Invalid input:\\nTry another time\\n\")"
   ]
  },
  {
   "cell_type": "code",
   "execution_count": 207,
   "metadata": {},
   "outputs": [
    {
     "data": {
      "text/plain": [
       "5.988396471949104"
      ]
     },
     "execution_count": 207,
     "metadata": {},
     "output_type": "execute_result"
    }
   ],
   "source": [
    "dijkstra_heap(lst_tot,aris,aut_input)"
   ]
  },
  {
   "cell_type": "markdown",
   "metadata": {},
   "source": [
    "# Point 3.2"
   ]
  },
  {
   "cell_type": "markdown",
   "metadata": {},
   "source": [
    "Write a Python software that takes in input a subset of nodes (cardinality smaller than 21) and returns, for each node of the graph, its GroupNumber"
   ]
  },
  {
   "cell_type": "code",
   "execution_count": 208,
   "metadata": {},
   "outputs": [
    {
     "name": "stdout",
     "output_type": "stream",
     "text": [
      "Insert the number of nodes that you want to insert in the subset:3\n",
      "Insert element number 1\n",
      "225741\n",
      "Insert element number 2\n",
      "575693\n",
      "Insert element number 3\n",
      "19384\n"
     ]
    }
   ],
   "source": [
    "subset=[]\n",
    "controll=False\n",
    "while controll==False:\n",
    "    sub_set_n=int(input(\"Insert the number of nodes that you want to insert in the subset:\"))\n",
    "    if sub_set_n>21:\n",
    "        print(\"Cardinality has to be smaller that 21!\")\n",
    "    else:\n",
    "        controll=True\n",
    "for i in range(sub_set_n):\n",
    "    cont=False\n",
    "    while cont==False:\n",
    "        print(\"Insert element number\",i+1)\n",
    "        element=int(input())\n",
    "        if element not in G.nodes():\n",
    "            print(\"This node is not in the graph!\\n Insert another time the\",i+1,\"node\")\n",
    "        elif element in subset:\n",
    "            print(\"This element has already been selected\")\n",
    "        else:\n",
    "            subset.append(element)\n",
    "            cont=True"
   ]
  },
  {
   "cell_type": "code",
   "execution_count": 209,
   "metadata": {},
   "outputs": [
    {
     "data": {
      "text/plain": [
       "[225741, 575693, 19384]"
      ]
     },
     "execution_count": 209,
     "metadata": {},
     "output_type": "execute_result"
    }
   ],
   "source": [
    "subset"
   ]
  },
  {
   "cell_type": "code",
   "execution_count": 232,
   "metadata": {},
   "outputs": [
    {
     "name": "stderr",
     "output_type": "stream",
     "text": [
      "100%|██████████| 7771/7771 [01:19<00:00, 98.03it/s]\n"
     ]
    }
   ],
   "source": [
    "groupNumbers = {}\n",
    "cc=0\n",
    "for e in subset:\n",
    "    groupNumbers[e] = []\n",
    "\n",
    "for node in tqdm((G)):\n",
    "   \n",
    "    currentLow = 1000000\n",
    "    gNumber = 0\n",
    "    check1=True\n",
    "    \n",
    "    for k in subset:\n",
    "        \n",
    "\n",
    "\n",
    "        # If there are no possible path, we don't evaluate the dijkstra_heap\n",
    "        if nx.has_path(G,node,k)==False:\n",
    "            continue\n",
    "\n",
    "        else:\n",
    "            result = dijkstra_heap(lst_tot,k,node)\n",
    "\n",
    "            if result == 'inf':\n",
    "                continue\n",
    "\n",
    "            # Set a control variable to break the loop if the distance is 0 --> there will be no other smaller distance\n",
    "            if result == 0:\n",
    "                currentLow = result\n",
    "                gNumber= k\n",
    "                break\n",
    "\n",
    "            if result < currentLow:\n",
    "                currentLow = result\n",
    "                gNumber= k\n",
    "\n",
    "    if gNumber == 0:\n",
    "        continue\n",
    "    \n",
    "    else:\n",
    "        groupNumbers[gNumber].append(node)\n"
   ]
  },
  {
   "cell_type": "code",
   "execution_count": 233,
   "metadata": {},
   "outputs": [
    {
     "data": {
      "text/plain": [
       "{19384: [803306, 19384],\n",
       " 225741: [20405,\n",
       "  20407,\n",
       "  255405,\n",
       "  9308,\n",
       "  175195,\n",
       "  17178,\n",
       "  255537,\n",
       "  21462,\n",
       "  255688,\n",
       "  255689,\n",
       "  255690,\n",
       "  255691,\n",
       "  15924,\n",
       "  8985,\n",
       "  8987,\n",
       "  8988,\n",
       "  19285,\n",
       "  19460,\n",
       "  8612,\n",
       "  256176,\n",
       "  256177,\n",
       "  255328,\n",
       "  114483,\n",
       "  202882,\n",
       "  256135,\n",
       "  256482,\n",
       "  20392,\n",
       "  8857,\n",
       "  8819,\n",
       "  271611,\n",
       "  16249,\n",
       "  19355,\n",
       "  16145,\n",
       "  18433,\n",
       "  223848,\n",
       "  271612,\n",
       "  175489,\n",
       "  271613,\n",
       "  17368,\n",
       "  271614,\n",
       "  17611,\n",
       "  16521,\n",
       "  168357,\n",
       "  271615,\n",
       "  271616,\n",
       "  17509,\n",
       "  17973,\n",
       "  17974,\n",
       "  16665,\n",
       "  16837,\n",
       "  16867,\n",
       "  271623,\n",
       "  17824,\n",
       "  15938,\n",
       "  17423,\n",
       "  15815,\n",
       "  17426,\n",
       "  16053,\n",
       "  15816,\n",
       "  16309,\n",
       "  15983,\n",
       "  15982,\n",
       "  17853,\n",
       "  16752,\n",
       "  17184,\n",
       "  17829,\n",
       "  15850,\n",
       "  16486,\n",
       "  18268,\n",
       "  101615,\n",
       "  15939,\n",
       "  17770,\n",
       "  15871,\n",
       "  15872,\n",
       "  18686,\n",
       "  271767,\n",
       "  16222,\n",
       "  264678,\n",
       "  17002,\n",
       "  15858,\n",
       "  16438,\n",
       "  16884,\n",
       "  16830,\n",
       "  271768,\n",
       "  17206,\n",
       "  271797,\n",
       "  271798,\n",
       "  271799,\n",
       "  271800,\n",
       "  271801,\n",
       "  271802,\n",
       "  21484,\n",
       "  16390,\n",
       "  271839,\n",
       "  16392,\n",
       "  21665,\n",
       "  17292,\n",
       "  15866,\n",
       "  15884,\n",
       "  15883,\n",
       "  15986,\n",
       "  15885,\n",
       "  109393,\n",
       "  271875,\n",
       "  271882,\n",
       "  17654,\n",
       "  58971,\n",
       "  271883,\n",
       "  16538,\n",
       "  17345,\n",
       "  16201,\n",
       "  16042,\n",
       "  18679,\n",
       "  16244,\n",
       "  16674,\n",
       "  16080,\n",
       "  11434,\n",
       "  16020,\n",
       "  271930,\n",
       "  18254,\n",
       "  18276,\n",
       "  271931,\n",
       "  85454,\n",
       "  16231,\n",
       "  16232,\n",
       "  271962,\n",
       "  271963,\n",
       "  271785,\n",
       "  16557,\n",
       "  271969,\n",
       "  271970,\n",
       "  272008,\n",
       "  16166,\n",
       "  111156,\n",
       "  17862,\n",
       "  111155,\n",
       "  19242,\n",
       "  17917,\n",
       "  210526,\n",
       "  18803,\n",
       "  40393,\n",
       "  20793,\n",
       "  272067,\n",
       "  272068,\n",
       "  16617,\n",
       "  272071,\n",
       "  272083,\n",
       "  256423,\n",
       "  20596,\n",
       "  17027,\n",
       "  19305,\n",
       "  18825,\n",
       "  21377,\n",
       "  272092,\n",
       "  272093,\n",
       "  237492,\n",
       "  29758,\n",
       "  272094,\n",
       "  16528,\n",
       "  15952,\n",
       "  16529,\n",
       "  9751,\n",
       "  16051,\n",
       "  16052,\n",
       "  16780,\n",
       "  15905,\n",
       "  15904,\n",
       "  8650,\n",
       "  271868,\n",
       "  81615,\n",
       "  16469,\n",
       "  31926,\n",
       "  272147,\n",
       "  272148,\n",
       "  272149,\n",
       "  272150,\n",
       "  272151,\n",
       "  10674,\n",
       "  16048,\n",
       "  15813,\n",
       "  21807,\n",
       "  16099,\n",
       "  16996,\n",
       "  16031,\n",
       "  16404,\n",
       "  272166,\n",
       "  18428,\n",
       "  272192,\n",
       "  18430,\n",
       "  16457,\n",
       "  17572,\n",
       "  18431,\n",
       "  85455,\n",
       "  272197,\n",
       "  272052,\n",
       "  271720,\n",
       "  272118,\n",
       "  272234,\n",
       "  17789,\n",
       "  271704,\n",
       "  9317,\n",
       "  21097,\n",
       "  17036,\n",
       "  15987,\n",
       "  9763,\n",
       "  271706,\n",
       "  272242,\n",
       "  272243,\n",
       "  218972,\n",
       "  218970,\n",
       "  217845,\n",
       "  18427,\n",
       "  17372,\n",
       "  272247,\n",
       "  16842,\n",
       "  16487,\n",
       "  15839,\n",
       "  15841,\n",
       "  16049,\n",
       "  16045,\n",
       "  16050,\n",
       "  18826,\n",
       "  260828,\n",
       "  16798,\n",
       "  272224,\n",
       "  17011,\n",
       "  16301,\n",
       "  16330,\n",
       "  32665,\n",
       "  272352,\n",
       "  17097,\n",
       "  272367,\n",
       "  16277,\n",
       "  272162,\n",
       "  272440,\n",
       "  48526,\n",
       "  19369,\n",
       "  16782,\n",
       "  223877,\n",
       "  16338,\n",
       "  16553,\n",
       "  16554,\n",
       "  16555,\n",
       "  16556,\n",
       "  271668,\n",
       "  271896,\n",
       "  18482,\n",
       "  272511,\n",
       "  48859,\n",
       "  225914,\n",
       "  272524,\n",
       "  16405,\n",
       "  48620,\n",
       "  48698,\n",
       "  272525,\n",
       "  272526,\n",
       "  272527,\n",
       "  17370,\n",
       "  272528,\n",
       "  272529,\n",
       "  272530,\n",
       "  272531,\n",
       "  16639,\n",
       "  264671,\n",
       "  15855,\n",
       "  15870,\n",
       "  260118,\n",
       "  20101,\n",
       "  17619,\n",
       "  15964,\n",
       "  272605,\n",
       "  272606,\n",
       "  272609,\n",
       "  18262,\n",
       "  16757,\n",
       "  256125,\n",
       "  16758,\n",
       "  230008,\n",
       "  16965,\n",
       "  272610,\n",
       "  272614,\n",
       "  272615,\n",
       "  85767,\n",
       "  16611,\n",
       "  8315,\n",
       "  12238,\n",
       "  259741,\n",
       "  16695,\n",
       "  16415,\n",
       "  17356,\n",
       "  119357,\n",
       "  16005,\n",
       "  119317,\n",
       "  7792,\n",
       "  16500,\n",
       "  118436,\n",
       "  16411,\n",
       "  16502,\n",
       "  97255,\n",
       "  18553,\n",
       "  162112,\n",
       "  272711,\n",
       "  17934,\n",
       "  15847,\n",
       "  16062,\n",
       "  272712,\n",
       "  272713,\n",
       "  8393,\n",
       "  51755,\n",
       "  16265,\n",
       "  272772,\n",
       "  18758,\n",
       "  255912,\n",
       "  17630,\n",
       "  272172,\n",
       "  16211,\n",
       "  272869,\n",
       "  272870,\n",
       "  272170,\n",
       "  272903,\n",
       "  15875,\n",
       "  16148,\n",
       "  19283,\n",
       "  17373,\n",
       "  272989,\n",
       "  18615,\n",
       "  16242,\n",
       "  18618,\n",
       "  272562,\n",
       "  272565,\n",
       "  16513,\n",
       "  272993,\n",
       "  272994,\n",
       "  272566,\n",
       "  16520,\n",
       "  272559,\n",
       "  15994,\n",
       "  273005,\n",
       "  273006,\n",
       "  273007,\n",
       "  34431,\n",
       "  273008,\n",
       "  273009,\n",
       "  273010,\n",
       "  273011,\n",
       "  273012,\n",
       "  273013,\n",
       "  9520,\n",
       "  18710,\n",
       "  18039,\n",
       "  272600,\n",
       "  273111,\n",
       "  18114,\n",
       "  16754,\n",
       "  16855,\n",
       "  47537,\n",
       "  8338,\n",
       "  273126,\n",
       "  273127,\n",
       "  273128,\n",
       "  273129,\n",
       "  273130,\n",
       "  273158,\n",
       "  18228,\n",
       "  15840,\n",
       "  18105,\n",
       "  119171,\n",
       "  272599,\n",
       "  240513,\n",
       "  20752,\n",
       "  3330,\n",
       "  364796,\n",
       "  158503,\n",
       "  21688,\n",
       "  114923,\n",
       "  114661,\n",
       "  8861,\n",
       "  8862,\n",
       "  8860,\n",
       "  8864,\n",
       "  364806,\n",
       "  94086,\n",
       "  364807,\n",
       "  8557,\n",
       "  266235,\n",
       "  364808,\n",
       "  40133,\n",
       "  272282,\n",
       "  113737,\n",
       "  364822,\n",
       "  115733,\n",
       "  9620,\n",
       "  364823,\n",
       "  364827,\n",
       "  256266,\n",
       "  175940,\n",
       "  364828,\n",
       "  9664,\n",
       "  21250,\n",
       "  364829,\n",
       "  101528,\n",
       "  101525,\n",
       "  101527,\n",
       "  16526,\n",
       "  148163,\n",
       "  308812,\n",
       "  364844,\n",
       "  160414,\n",
       "  9440,\n",
       "  364847,\n",
       "  364848,\n",
       "  270583,\n",
       "  364849,\n",
       "  364850,\n",
       "  364851,\n",
       "  175759,\n",
       "  115207,\n",
       "  18897,\n",
       "  272747,\n",
       "  364858,\n",
       "  364816,\n",
       "  364859,\n",
       "  364862,\n",
       "  16283,\n",
       "  364864,\n",
       "  9097,\n",
       "  21234,\n",
       "  116091,\n",
       "  113383,\n",
       "  113756,\n",
       "  364865,\n",
       "  18896,\n",
       "  108190,\n",
       "  364894,\n",
       "  257493,\n",
       "  163903,\n",
       "  114821,\n",
       "  364895,\n",
       "  33951,\n",
       "  364898,\n",
       "  21098,\n",
       "  338641,\n",
       "  17945,\n",
       "  113440,\n",
       "  364900,\n",
       "  364901,\n",
       "  113425,\n",
       "  272230,\n",
       "  93714,\n",
       "  364904,\n",
       "  364905,\n",
       "  115205,\n",
       "  364915,\n",
       "  364916,\n",
       "  9453,\n",
       "  317573,\n",
       "  182013,\n",
       "  283436,\n",
       "  21059,\n",
       "  113303,\n",
       "  271687,\n",
       "  20930,\n",
       "  286016,\n",
       "  286017,\n",
       "  364938,\n",
       "  132057,\n",
       "  7599,\n",
       "  364939,\n",
       "  115701,\n",
       "  364942,\n",
       "  99554,\n",
       "  310007,\n",
       "  364943,\n",
       "  16979,\n",
       "  10973,\n",
       "  256339,\n",
       "  287,\n",
       "  21202,\n",
       "  364958,\n",
       "  364959,\n",
       "  20328,\n",
       "  3840,\n",
       "  149641,\n",
       "  138870,\n",
       "  9096,\n",
       "  223845,\n",
       "  364986,\n",
       "  256291,\n",
       "  16808,\n",
       "  364988,\n",
       "  17610,\n",
       "  21488,\n",
       "  218516,\n",
       "  56377,\n",
       "  253679,\n",
       "  17623,\n",
       "  48503,\n",
       "  48502,\n",
       "  72165,\n",
       "  108039,\n",
       "  9025,\n",
       "  17323,\n",
       "  365014,\n",
       "  8657,\n",
       "  20115,\n",
       "  365015,\n",
       "  365016,\n",
       "  8659,\n",
       "  16810,\n",
       "  271907,\n",
       "  17009,\n",
       "  365019,\n",
       "  115394,\n",
       "  14856,\n",
       "  15950,\n",
       "  138871,\n",
       "  365029,\n",
       "  21197,\n",
       "  114431,\n",
       "  365032,\n",
       "  36607,\n",
       "  29219,\n",
       "  225947,\n",
       "  365042,\n",
       "  15806,\n",
       "  15805,\n",
       "  364951,\n",
       "  9202,\n",
       "  20109,\n",
       "  364811,\n",
       "  16323,\n",
       "  365043,\n",
       "  19211,\n",
       "  19210,\n",
       "  364913,\n",
       "  273515,\n",
       "  364843,\n",
       "  48845,\n",
       "  365044,\n",
       "  9631,\n",
       "  365046,\n",
       "  29494,\n",
       "  17528,\n",
       "  272644,\n",
       "  365052,\n",
       "  21324,\n",
       "  216243,\n",
       "  18165,\n",
       "  272290,\n",
       "  265702,\n",
       "  150759,\n",
       "  255911,\n",
       "  179615,\n",
       "  15049,\n",
       "  364839,\n",
       "  365065,\n",
       "  364934,\n",
       "  79993,\n",
       "  365066,\n",
       "  113812,\n",
       "  10660,\n",
       "  52810,\n",
       "  360793,\n",
       "  365076,\n",
       "  365077,\n",
       "  365027,\n",
       "  18263,\n",
       "  119221,\n",
       "  44819,\n",
       "  18382,\n",
       "  18383,\n",
       "  79409,\n",
       "  365084,\n",
       "  364884,\n",
       "  18910,\n",
       "  16680,\n",
       "  356291,\n",
       "  365087,\n",
       "  364914,\n",
       "  69303,\n",
       "  365101,\n",
       "  21485,\n",
       "  52959,\n",
       "  227494,\n",
       "  365110,\n",
       "  364879,\n",
       "  11901,\n",
       "  68834,\n",
       "  283530,\n",
       "  364973,\n",
       "  365111,\n",
       "  16298,\n",
       "  365116,\n",
       "  114312,\n",
       "  10692,\n",
       "  114030,\n",
       "  254097,\n",
       "  365135,\n",
       "  365138,\n",
       "  365139,\n",
       "  195494,\n",
       "  16589,\n",
       "  22600,\n",
       "  365140,\n",
       "  265044,\n",
       "  365141,\n",
       "  19924,\n",
       "  365142,\n",
       "  17537,\n",
       "  17532,\n",
       "  365143,\n",
       "  272431,\n",
       "  365144,\n",
       "  17531,\n",
       "  365145,\n",
       "  17544,\n",
       "  365146,\n",
       "  8863,\n",
       "  197144,\n",
       "  365153,\n",
       "  17864,\n",
       "  256305,\n",
       "  292924,\n",
       "  364993,\n",
       "  14854,\n",
       "  20283,\n",
       "  16085,\n",
       "  16087,\n",
       "  9213,\n",
       "  365167,\n",
       "  365168,\n",
       "  356166,\n",
       "  365179,\n",
       "  270587,\n",
       "  365183,\n",
       "  12509,\n",
       "  113496,\n",
       "  18669,\n",
       "  197387,\n",
       "  34402,\n",
       "  9003,\n",
       "  365184,\n",
       "  365185,\n",
       "  365188,\n",
       "  21131,\n",
       "  20698,\n",
       "  290556,\n",
       "  256447,\n",
       "  365189,\n",
       "  365190,\n",
       "  365192,\n",
       "  16579,\n",
       "  18866,\n",
       "  365200,\n",
       "  8556,\n",
       "  365201,\n",
       "  16832,\n",
       "  114056,\n",
       "  23004,\n",
       "  114097,\n",
       "  196032,\n",
       "  21457,\n",
       "  450734,\n",
       "  270596,\n",
       "  256498,\n",
       "  52499,\n",
       "  373165,\n",
       "  115223,\n",
       "  115438,\n",
       "  20582,\n",
       "  15628,\n",
       "  450776,\n",
       "  364784,\n",
       "  450777,\n",
       "  450778,\n",
       "  450779,\n",
       "  114915,\n",
       "  450782,\n",
       "  20580,\n",
       "  8513,\n",
       "  20722,\n",
       "  20724,\n",
       "  114427,\n",
       "  101661,\n",
       "  170894,\n",
       "  255285,\n",
       "  408319,\n",
       "  113241,\n",
       "  450804,\n",
       "  450805,\n",
       "  346064,\n",
       "  450827,\n",
       "  450828,\n",
       "  113723,\n",
       "  373336,\n",
       "  364962,\n",
       "  21215,\n",
       "  450866,\n",
       "  217556,\n",
       "  450874,\n",
       "  450875,\n",
       "  161203,\n",
       "  450876,\n",
       "  20994,\n",
       "  273893,\n",
       "  21351,\n",
       "  37422,\n",
       "  404748,\n",
       "  365091,\n",
       "  322,\n",
       "  190934,\n",
       "  207511,\n",
       "  450930,\n",
       "  450931,\n",
       "  138953,\n",
       "  291447,\n",
       "  21708,\n",
       "  44752,\n",
       "  37908,\n",
       "  95794,\n",
       "  450988,\n",
       "  450989,\n",
       "  289057,\n",
       "  113875,\n",
       "  450992,\n",
       "  289860,\n",
       "  289481,\n",
       "  130611,\n",
       "  290359,\n",
       "  289830,\n",
       "  101968,\n",
       "  290640,\n",
       "  122502,\n",
       "  18049,\n",
       "  156372,\n",
       "  15959,\n",
       "  44965,\n",
       "  450973,\n",
       "  364836,\n",
       "  364972,\n",
       "  450786,\n",
       "  8289,\n",
       "  101498,\n",
       "  20723,\n",
       "  20088,\n",
       "  451203,\n",
       "  113876,\n",
       "  451206,\n",
       "  247769,\n",
       "  451221,\n",
       "  451222,\n",
       "  201846,\n",
       "  451223,\n",
       "  290079,\n",
       "  122973,\n",
       "  312013,\n",
       "  451274,\n",
       "  451275,\n",
       "  451292,\n",
       "  113505,\n",
       "  20370,\n",
       "  20371,\n",
       "  451298,\n",
       "  84045,\n",
       "  451187,\n",
       "  47312,\n",
       "  270089,\n",
       "  20161,\n",
       "  16023,\n",
       "  250215,\n",
       "  451322,\n",
       "  369870,\n",
       "  451329,\n",
       "  113577,\n",
       "  113578,\n",
       "  20721,\n",
       "  450951,\n",
       "  168079,\n",
       "  166254,\n",
       "  17457,\n",
       "  451348,\n",
       "  109385,\n",
       "  14510,\n",
       "  115659,\n",
       "  289341,\n",
       "  114748,\n",
       "  451177,\n",
       "  290719,\n",
       "  290723,\n",
       "  290720,\n",
       "  451395,\n",
       "  290721,\n",
       "  451396,\n",
       "  93174,\n",
       "  115874,\n",
       "  451405,\n",
       "  461645,\n",
       "  207834,\n",
       "  461667,\n",
       "  461668,\n",
       "  207995,\n",
       "  461673,\n",
       "  461674,\n",
       "  112828,\n",
       "  461679,\n",
       "  207885,\n",
       "  207937,\n",
       "  8705,\n",
       "  356527,\n",
       "  16618,\n",
       "  53221,\n",
       "  461757,\n",
       "  321617,\n",
       "  264828,\n",
       "  461766,\n",
       "  461735,\n",
       "  9258,\n",
       "  461782,\n",
       "  461783,\n",
       "  461772,\n",
       "  218971,\n",
       "  461808,\n",
       "  5620,\n",
       "  461762,\n",
       "  207797,\n",
       "  461843,\n",
       "  137491,\n",
       "  207902,\n",
       "  71935,\n",
       "  36915,\n",
       "  264893,\n",
       "  141466,\n",
       "  489100,\n",
       "  2457,\n",
       "  489101,\n",
       "  489102,\n",
       "  1117,\n",
       "  290338,\n",
       "  489170,\n",
       "  489171,\n",
       "  17994,\n",
       "  255756,\n",
       "  16776,\n",
       "  16435,\n",
       "  489238,\n",
       "  489239,\n",
       "  52519,\n",
       "  19443,\n",
       "  265798,\n",
       "  199626,\n",
       "  372069,\n",
       "  18965,\n",
       "  17360,\n",
       "  16278,\n",
       "  17435,\n",
       "  154591,\n",
       "  228162,\n",
       "  28556,\n",
       "  225366,\n",
       "  85353,\n",
       "  10212,\n",
       "  21042,\n",
       "  21044,\n",
       "  414413,\n",
       "  18804,\n",
       "  74708,\n",
       "  1829,\n",
       "  66957,\n",
       "  310722,\n",
       "  440374,\n",
       "  16912,\n",
       "  3962,\n",
       "  346920,\n",
       "  22359,\n",
       "  486264,\n",
       "  216432,\n",
       "  175447,\n",
       "  289187,\n",
       "  4669,\n",
       "  447863,\n",
       "  18318,\n",
       "  230364,\n",
       "  308413,\n",
       "  308414,\n",
       "  63796,\n",
       "  95337,\n",
       "  119725,\n",
       "  20443,\n",
       "  10361,\n",
       "  20666,\n",
       "  16721,\n",
       "  308314,\n",
       "  256422,\n",
       "  8641,\n",
       "  258703,\n",
       "  112295,\n",
       "  17660,\n",
       "  17095,\n",
       "  18729,\n",
       "  22631,\n",
       "  17207,\n",
       "  19998,\n",
       "  18448,\n",
       "  74745,\n",
       "  226605,\n",
       "  66969,\n",
       "  204559,\n",
       "  489568,\n",
       "  489247,\n",
       "  489569,\n",
       "  18300,\n",
       "  118802,\n",
       "  17655,\n",
       "  365163,\n",
       "  19062,\n",
       "  16308,\n",
       "  16198,\n",
       "  489630,\n",
       "  489631,\n",
       "  161333,\n",
       "  9323,\n",
       "  113210,\n",
       "  17729,\n",
       "  113212,\n",
       "  272004,\n",
       "  18968,\n",
       "  35534,\n",
       "  72719,\n",
       "  9728,\n",
       "  8412,\n",
       "  489764,\n",
       "  16542,\n",
       "  19195,\n",
       "  17071,\n",
       "  17072,\n",
       "  489777,\n",
       "  489778,\n",
       "  29701,\n",
       "  189364,\n",
       "  255275,\n",
       "  289387,\n",
       "  31344,\n",
       "  489811,\n",
       "  489812,\n",
       "  489853,\n",
       "  107623,\n",
       "  280792,\n",
       "  489854,\n",
       "  34292,\n",
       "  489884,\n",
       "  9324,\n",
       "  256474,\n",
       "  155133,\n",
       "  10494,\n",
       "  261006,\n",
       "  300578,\n",
       "  103263,\n",
       "  16703,\n",
       "  118347,\n",
       "  11808,\n",
       "  253931,\n",
       "  161082,\n",
       "  36690,\n",
       "  255720,\n",
       "  18296,\n",
       "  489975,\n",
       "  342139,\n",
       "  2512,\n",
       "  118456,\n",
       "  166915,\n",
       "  17728,\n",
       "  490009,\n",
       "  490010,\n",
       "  8630,\n",
       "  8631,\n",
       "  10112,\n",
       "  489473,\n",
       "  161901,\n",
       "  113665,\n",
       "  218672,\n",
       "  255726,\n",
       "  33336,\n",
       "  16946,\n",
       "  58666,\n",
       "  113804,\n",
       "  224251,\n",
       "  490071,\n",
       "  62227,\n",
       "  490141,\n",
       "  90643,\n",
       "  113862,\n",
       "  490153,\n",
       "  9321,\n",
       "  490154,\n",
       "  490155,\n",
       "  490156,\n",
       "  490158,\n",
       "  490159,\n",
       "  16250,\n",
       "  255827,\n",
       "  ...],\n",
       " 575693: [575692,\n",
       "  575702,\n",
       "  575763,\n",
       "  575764,\n",
       "  8501,\n",
       "  575693,\n",
       "  575694,\n",
       "  352264,\n",
       "  575776,\n",
       "  560341]}"
      ]
     },
     "execution_count": 233,
     "metadata": {},
     "output_type": "execute_result"
    }
   ],
   "source": [
    "groupNumbers"
   ]
  },
  {
   "cell_type": "code",
   "execution_count": 231,
   "metadata": {},
   "outputs": [
    {
     "name": "stdout",
     "output_type": "stream",
     "text": [
      "6.164285714285715\n",
      "225741\n",
      "inf\n",
      "575693\n",
      "inf\n",
      "19384\n"
     ]
    }
   ],
   "source": [
    "for i in subset:\n",
    "    print(dijkstra_heap(lst_tot,i,66957))\n",
    "    print(i)"
   ]
  },
  {
   "cell_type": "code",
   "execution_count": 24,
   "metadata": {},
   "outputs": [
    {
     "data": {
      "text/plain": [
       "{16231: {'weight': 0.0},\n",
       " 16232: {'weight': 0.75},\n",
       " 18276: {'weight': 0.5},\n",
       " 85454: {'weight': 0.0},\n",
       " 271930: {'weight': 0.0},\n",
       " 271931: {'weight': 0.6666666666666667}}"
      ]
     },
     "execution_count": 24,
     "metadata": {},
     "output_type": "execute_result"
    }
   ],
   "source": [
    "G[18254]"
   ]
  },
  {
   "cell_type": "code",
   "execution_count": null,
   "metadata": {
    "collapsed": true
   },
   "outputs": [],
   "source": []
  }
 ],
 "metadata": {
  "kernelspec": {
   "display_name": "Python 3",
   "language": "python",
   "name": "python3"
  },
  "language_info": {
   "codemirror_mode": {
    "name": "ipython",
    "version": 3
   },
   "file_extension": ".py",
   "mimetype": "text/x-python",
   "name": "python",
   "nbconvert_exporter": "python",
   "pygments_lexer": "ipython3",
   "version": "3.6.2"
  }
 },
 "nbformat": 4,
 "nbformat_minor": 2
}
